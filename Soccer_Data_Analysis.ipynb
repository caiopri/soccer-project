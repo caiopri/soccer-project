{
 "cells": [
  {
   "cell_type": "markdown",
   "metadata": {},
   "source": [
    "# Project: Soccer Data Analysis\n",
    "## Table of Contents\n",
    "<ul>\n",
    "<li><a href=\"#intro\">Introduction</a></li>\n",
    "<li><a href=\"#wrangling\">Data Wrangling</a></li>\n",
    "<li><a href=\"#eda\">Exploratory Data Analysis</a></li>\n",
    "<li><a href=\"#conclusions\">Conclusions</a></li>\n",
    "</ul>"
   ]
  },
  {
   "cell_type": "markdown",
   "metadata": {},
   "source": [
    "<a id='intro'></a>\n",
    "## Introduction"
   ]
  },
  {
   "cell_type": "markdown",
   "metadata": {},
   "source": [
    "### Soccer dataset\n",
    "This analysis dataset contains information about matches and players in European Soccer Leagues between 2008 and 2016.\n",
    "The database is available in the following [link](https://www.kaggle.com/datasets/hugomathien/soccer).\n",
    "It includes information on more than 25,000 matches and 10,000 players in 11 European Countries' lead championship. It also includes data on Players and Teams' attributes from the EA Sports FIFA video game series."
   ]
  },
  {
   "cell_type": "code",
   "execution_count": 1,
   "metadata": {},
   "outputs": [],
   "source": [
    "# Import libraries used in the project\n",
    "import numpy as np \n",
    "import pandas as pd\n",
    "import sqlite3\n",
    "import matplotlib.pyplot as plt\n",
    "import seaborn as sns\n",
    "%matplotlib inline"
   ]
  },
  {
   "cell_type": "markdown",
   "metadata": {},
   "source": [
    "### Questions to explore\n",
    "Using this dataset we can explore specific characteristics about the league's, team's and player's statistics. We will try to answer the following questions:\n",
    "* Which league has the highest average number of goals per match?\n",
    "* Is there a home team advantage? In other words, do teams that play at home win more games?\n",
    "* Which players improved their overall rating the most during the period?\n",
    "* Is there a correlation between a player's height and his overall rating?\n",
    "* Do players with a specific preferred foot have a higher overall rating?\n",
    "* Which team attributes are associated with more victories?"
   ]
  },
  {
   "cell_type": "markdown",
   "metadata": {},
   "source": [
    "<a id='wrangling'></a>\n",
    "## Data Wrangling\n",
    "\n",
    "### General Properties"
   ]
  },
  {
   "cell_type": "code",
   "execution_count": 2,
   "metadata": {},
   "outputs": [],
   "source": [
    "#Creating the connection to the dataset\n",
    "database = '/Users/caiopriszculnik/Documents/Python notebooks/Data Analyst Nanodegree/Project 2/database.sqlite'"
   ]
  },
  {
   "cell_type": "code",
   "execution_count": 3,
   "metadata": {},
   "outputs": [],
   "source": [
    "con = sqlite3.connect(database)"
   ]
  },
  {
   "cell_type": "code",
   "execution_count": 4,
   "metadata": {},
   "outputs": [
    {
     "data": {
      "text/html": [
       "<div>\n",
       "<style scoped>\n",
       "    .dataframe tbody tr th:only-of-type {\n",
       "        vertical-align: middle;\n",
       "    }\n",
       "\n",
       "    .dataframe tbody tr th {\n",
       "        vertical-align: top;\n",
       "    }\n",
       "\n",
       "    .dataframe thead th {\n",
       "        text-align: right;\n",
       "    }\n",
       "</style>\n",
       "<table border=\"1\" class=\"dataframe\">\n",
       "  <thead>\n",
       "    <tr style=\"text-align: right;\">\n",
       "      <th></th>\n",
       "      <th>type</th>\n",
       "      <th>name</th>\n",
       "      <th>tbl_name</th>\n",
       "      <th>rootpage</th>\n",
       "      <th>sql</th>\n",
       "    </tr>\n",
       "  </thead>\n",
       "  <tbody>\n",
       "    <tr>\n",
       "      <th>0</th>\n",
       "      <td>table</td>\n",
       "      <td>sqlite_sequence</td>\n",
       "      <td>sqlite_sequence</td>\n",
       "      <td>4</td>\n",
       "      <td>CREATE TABLE sqlite_sequence(name,seq)</td>\n",
       "    </tr>\n",
       "    <tr>\n",
       "      <th>1</th>\n",
       "      <td>table</td>\n",
       "      <td>Player_Attributes</td>\n",
       "      <td>Player_Attributes</td>\n",
       "      <td>11</td>\n",
       "      <td>CREATE TABLE \"Player_Attributes\" (\\n\\t`id`\\tIN...</td>\n",
       "    </tr>\n",
       "    <tr>\n",
       "      <th>2</th>\n",
       "      <td>table</td>\n",
       "      <td>Player</td>\n",
       "      <td>Player</td>\n",
       "      <td>14</td>\n",
       "      <td>CREATE TABLE `Player` (\\n\\t`id`\\tINTEGER PRIMA...</td>\n",
       "    </tr>\n",
       "    <tr>\n",
       "      <th>3</th>\n",
       "      <td>table</td>\n",
       "      <td>Match</td>\n",
       "      <td>Match</td>\n",
       "      <td>18</td>\n",
       "      <td>CREATE TABLE `Match` (\\n\\t`id`\\tINTEGER PRIMAR...</td>\n",
       "    </tr>\n",
       "    <tr>\n",
       "      <th>4</th>\n",
       "      <td>table</td>\n",
       "      <td>League</td>\n",
       "      <td>League</td>\n",
       "      <td>24</td>\n",
       "      <td>CREATE TABLE `League` (\\n\\t`id`\\tINTEGER PRIMA...</td>\n",
       "    </tr>\n",
       "    <tr>\n",
       "      <th>5</th>\n",
       "      <td>table</td>\n",
       "      <td>Country</td>\n",
       "      <td>Country</td>\n",
       "      <td>26</td>\n",
       "      <td>CREATE TABLE `Country` (\\n\\t`id`\\tINTEGER PRIM...</td>\n",
       "    </tr>\n",
       "    <tr>\n",
       "      <th>6</th>\n",
       "      <td>table</td>\n",
       "      <td>Team</td>\n",
       "      <td>Team</td>\n",
       "      <td>29</td>\n",
       "      <td>CREATE TABLE \"Team\" (\\n\\t`id`\\tINTEGER PRIMARY...</td>\n",
       "    </tr>\n",
       "    <tr>\n",
       "      <th>7</th>\n",
       "      <td>table</td>\n",
       "      <td>Team_Attributes</td>\n",
       "      <td>Team_Attributes</td>\n",
       "      <td>2</td>\n",
       "      <td>CREATE TABLE `Team_Attributes` (\\n\\t`id`\\tINTE...</td>\n",
       "    </tr>\n",
       "  </tbody>\n",
       "</table>\n",
       "</div>"
      ],
      "text/plain": [
       "    type               name           tbl_name  rootpage  \\\n",
       "0  table    sqlite_sequence    sqlite_sequence         4   \n",
       "1  table  Player_Attributes  Player_Attributes        11   \n",
       "2  table             Player             Player        14   \n",
       "3  table              Match              Match        18   \n",
       "4  table             League             League        24   \n",
       "5  table            Country            Country        26   \n",
       "6  table               Team               Team        29   \n",
       "7  table    Team_Attributes    Team_Attributes         2   \n",
       "\n",
       "                                                 sql  \n",
       "0             CREATE TABLE sqlite_sequence(name,seq)  \n",
       "1  CREATE TABLE \"Player_Attributes\" (\\n\\t`id`\\tIN...  \n",
       "2  CREATE TABLE `Player` (\\n\\t`id`\\tINTEGER PRIMA...  \n",
       "3  CREATE TABLE `Match` (\\n\\t`id`\\tINTEGER PRIMAR...  \n",
       "4  CREATE TABLE `League` (\\n\\t`id`\\tINTEGER PRIMA...  \n",
       "5  CREATE TABLE `Country` (\\n\\t`id`\\tINTEGER PRIM...  \n",
       "6  CREATE TABLE \"Team\" (\\n\\t`id`\\tINTEGER PRIMARY...  \n",
       "7  CREATE TABLE `Team_Attributes` (\\n\\t`id`\\tINTE...  "
      ]
     },
     "execution_count": 4,
     "metadata": {},
     "output_type": "execute_result"
    }
   ],
   "source": [
    "#Looking at the table names\n",
    "tables = pd.read_sql(\"\"\"SELECT *\n",
    "                        FROM sqlite_master\n",
    "                        WHERE type='table';\"\"\", con)\n",
    "tables"
   ]
  },
  {
   "cell_type": "markdown",
   "metadata": {},
   "source": [
    "### Goals by country and season DataFrame\n",
    "> We will create a table with the average number of goals per country league and season to investigate which country league has the highest average number of goals per season"
   ]
  },
  {
   "cell_type": "code",
   "execution_count": 5,
   "metadata": {},
   "outputs": [
    {
     "data": {
      "text/html": [
       "<div>\n",
       "<style scoped>\n",
       "    .dataframe tbody tr th:only-of-type {\n",
       "        vertical-align: middle;\n",
       "    }\n",
       "\n",
       "    .dataframe tbody tr th {\n",
       "        vertical-align: top;\n",
       "    }\n",
       "\n",
       "    .dataframe thead th {\n",
       "        text-align: right;\n",
       "    }\n",
       "</style>\n",
       "<table border=\"1\" class=\"dataframe\">\n",
       "  <thead>\n",
       "    <tr style=\"text-align: right;\">\n",
       "      <th></th>\n",
       "      <th>country_name</th>\n",
       "      <th>league_name</th>\n",
       "      <th>season</th>\n",
       "      <th>average_home_team_goal</th>\n",
       "      <th>average_away_team_goal</th>\n",
       "    </tr>\n",
       "  </thead>\n",
       "  <tbody>\n",
       "    <tr>\n",
       "      <th>0</th>\n",
       "      <td>Belgium</td>\n",
       "      <td>Belgium Jupiler League</td>\n",
       "      <td>2008/2009</td>\n",
       "      <td>1.630719</td>\n",
       "      <td>1.163399</td>\n",
       "    </tr>\n",
       "    <tr>\n",
       "      <th>1</th>\n",
       "      <td>Belgium</td>\n",
       "      <td>Belgium Jupiler League</td>\n",
       "      <td>2009/2010</td>\n",
       "      <td>1.466667</td>\n",
       "      <td>1.223810</td>\n",
       "    </tr>\n",
       "    <tr>\n",
       "      <th>2</th>\n",
       "      <td>Belgium</td>\n",
       "      <td>Belgium Jupiler League</td>\n",
       "      <td>2010/2011</td>\n",
       "      <td>1.591667</td>\n",
       "      <td>1.054167</td>\n",
       "    </tr>\n",
       "    <tr>\n",
       "      <th>3</th>\n",
       "      <td>Belgium</td>\n",
       "      <td>Belgium Jupiler League</td>\n",
       "      <td>2011/2012</td>\n",
       "      <td>1.754167</td>\n",
       "      <td>1.125000</td>\n",
       "    </tr>\n",
       "    <tr>\n",
       "      <th>4</th>\n",
       "      <td>Belgium</td>\n",
       "      <td>Belgium Jupiler League</td>\n",
       "      <td>2012/2013</td>\n",
       "      <td>1.562500</td>\n",
       "      <td>1.366667</td>\n",
       "    </tr>\n",
       "  </tbody>\n",
       "</table>\n",
       "</div>"
      ],
      "text/plain": [
       "  country_name             league_name     season  average_home_team_goal  \\\n",
       "0      Belgium  Belgium Jupiler League  2008/2009                1.630719   \n",
       "1      Belgium  Belgium Jupiler League  2009/2010                1.466667   \n",
       "2      Belgium  Belgium Jupiler League  2010/2011                1.591667   \n",
       "3      Belgium  Belgium Jupiler League  2011/2012                1.754167   \n",
       "4      Belgium  Belgium Jupiler League  2012/2013                1.562500   \n",
       "\n",
       "   average_away_team_goal  \n",
       "0                1.163399  \n",
       "1                1.223810  \n",
       "2                1.054167  \n",
       "3                1.125000  \n",
       "4                1.366667  "
      ]
     },
     "execution_count": 5,
     "metadata": {},
     "output_type": "execute_result"
    }
   ],
   "source": [
    "#Selecting the average number of goals by country and season\n",
    "goals_country = pd.read_sql(\"\"\"SELECT\n",
    "                                ct.name AS country_name,\n",
    "                                lg.name AS league_name,\n",
    "                                season,\n",
    "                                AVG(home_team_goal) as average_home_team_goal,\n",
    "                                AVG(away_team_goal) as average_away_team_goal\n",
    "                                FROM Match mt\n",
    "                                LEFT JOIN Country ct ON mt.country_id = ct.id\n",
    "                                LEFT JOIN League lg ON mt.league_id = lg.id\n",
    "                                GROUP BY 1, 2, 3;\"\"\", con)\n",
    "\n",
    "goals_country.head()"
   ]
  },
  {
   "cell_type": "code",
   "execution_count": 6,
   "metadata": {},
   "outputs": [],
   "source": [
    "#create total goals column\n",
    "goals_country['average_total_goals'] = goals_country['average_home_team_goal'] + goals_country['average_away_team_goal']"
   ]
  },
  {
   "cell_type": "code",
   "execution_count": 7,
   "metadata": {},
   "outputs": [
    {
     "data": {
      "text/plain": [
       "(88, 6)"
      ]
     },
     "execution_count": 7,
     "metadata": {},
     "output_type": "execute_result"
    }
   ],
   "source": [
    "#Exploring the dataframe shape, info and data types\n",
    "goals_country.shape"
   ]
  },
  {
   "cell_type": "code",
   "execution_count": 8,
   "metadata": {},
   "outputs": [
    {
     "name": "stdout",
     "output_type": "stream",
     "text": [
      "<class 'pandas.core.frame.DataFrame'>\n",
      "RangeIndex: 88 entries, 0 to 87\n",
      "Data columns (total 6 columns):\n",
      " #   Column                  Non-Null Count  Dtype  \n",
      "---  ------                  --------------  -----  \n",
      " 0   country_name            88 non-null     object \n",
      " 1   league_name             88 non-null     object \n",
      " 2   season                  88 non-null     object \n",
      " 3   average_home_team_goal  88 non-null     float64\n",
      " 4   average_away_team_goal  88 non-null     float64\n",
      " 5   average_total_goals     88 non-null     float64\n",
      "dtypes: float64(3), object(3)\n",
      "memory usage: 4.2+ KB\n"
     ]
    }
   ],
   "source": [
    "goals_country.info()"
   ]
  },
  {
   "cell_type": "code",
   "execution_count": 9,
   "metadata": {},
   "outputs": [
    {
     "data": {
      "text/plain": [
       "country_name               object\n",
       "league_name                object\n",
       "season                     object\n",
       "average_home_team_goal    float64\n",
       "average_away_team_goal    float64\n",
       "average_total_goals       float64\n",
       "dtype: object"
      ]
     },
     "execution_count": 9,
     "metadata": {},
     "output_type": "execute_result"
    }
   ],
   "source": [
    "goals_country.dtypes"
   ]
  },
  {
   "cell_type": "code",
   "execution_count": 10,
   "metadata": {},
   "outputs": [
    {
     "data": {
      "text/plain": [
       "country_name              0\n",
       "league_name               0\n",
       "season                    0\n",
       "average_home_team_goal    0\n",
       "average_away_team_goal    0\n",
       "average_total_goals       0\n",
       "dtype: int64"
      ]
     },
     "execution_count": 10,
     "metadata": {},
     "output_type": "execute_result"
    }
   ],
   "source": [
    "#Checking if there are any nulls in the dataframe\n",
    "goals_country.isnull().sum()"
   ]
  },
  {
   "cell_type": "code",
   "execution_count": 11,
   "metadata": {},
   "outputs": [
    {
     "data": {
      "text/plain": [
       "0"
      ]
     },
     "execution_count": 11,
     "metadata": {},
     "output_type": "execute_result"
    }
   ],
   "source": [
    "#Checking if there are any duplicated rows\n",
    "goals_country.duplicated().sum()"
   ]
  },
  {
   "cell_type": "markdown",
   "metadata": {},
   "source": [
    "Exploring the DataFrame it seems that it doesn't have any null columns and the data types of the columns are the expected ones. Therefore, we won't need to do any further data cleaning for this dataframe"
   ]
  },
  {
   "cell_type": "markdown",
   "metadata": {},
   "source": [
    "### Match results DataFrame\n",
    "> We will create a table that shows the number of goals for each match, the id of the winner team and a column that states the match result (Home team win, Away team win or Draw). This dataframe will be used to measure if there is a home team advantage."
   ]
  },
  {
   "cell_type": "code",
   "execution_count": 12,
   "metadata": {},
   "outputs": [
    {
     "data": {
      "text/html": [
       "<div>\n",
       "<style scoped>\n",
       "    .dataframe tbody tr th:only-of-type {\n",
       "        vertical-align: middle;\n",
       "    }\n",
       "\n",
       "    .dataframe tbody tr th {\n",
       "        vertical-align: top;\n",
       "    }\n",
       "\n",
       "    .dataframe thead th {\n",
       "        text-align: right;\n",
       "    }\n",
       "</style>\n",
       "<table border=\"1\" class=\"dataframe\">\n",
       "  <thead>\n",
       "    <tr style=\"text-align: right;\">\n",
       "      <th></th>\n",
       "      <th>country_name</th>\n",
       "      <th>league_name</th>\n",
       "      <th>season</th>\n",
       "      <th>date</th>\n",
       "      <th>home_team_goal</th>\n",
       "      <th>away_team_goal</th>\n",
       "      <th>winner_team_api_id</th>\n",
       "      <th>match_result</th>\n",
       "    </tr>\n",
       "  </thead>\n",
       "  <tbody>\n",
       "    <tr>\n",
       "      <th>0</th>\n",
       "      <td>Belgium</td>\n",
       "      <td>Belgium Jupiler League</td>\n",
       "      <td>2008/2009</td>\n",
       "      <td>2008-08-17 00:00:00</td>\n",
       "      <td>1</td>\n",
       "      <td>1</td>\n",
       "      <td>NaN</td>\n",
       "      <td>Draw</td>\n",
       "    </tr>\n",
       "    <tr>\n",
       "      <th>1</th>\n",
       "      <td>Belgium</td>\n",
       "      <td>Belgium Jupiler League</td>\n",
       "      <td>2008/2009</td>\n",
       "      <td>2008-08-16 00:00:00</td>\n",
       "      <td>0</td>\n",
       "      <td>0</td>\n",
       "      <td>NaN</td>\n",
       "      <td>Draw</td>\n",
       "    </tr>\n",
       "    <tr>\n",
       "      <th>2</th>\n",
       "      <td>Belgium</td>\n",
       "      <td>Belgium Jupiler League</td>\n",
       "      <td>2008/2009</td>\n",
       "      <td>2008-08-16 00:00:00</td>\n",
       "      <td>0</td>\n",
       "      <td>3</td>\n",
       "      <td>8635.0</td>\n",
       "      <td>Away Team Win</td>\n",
       "    </tr>\n",
       "    <tr>\n",
       "      <th>3</th>\n",
       "      <td>Belgium</td>\n",
       "      <td>Belgium Jupiler League</td>\n",
       "      <td>2008/2009</td>\n",
       "      <td>2008-08-17 00:00:00</td>\n",
       "      <td>5</td>\n",
       "      <td>0</td>\n",
       "      <td>9991.0</td>\n",
       "      <td>Home Team Win</td>\n",
       "    </tr>\n",
       "    <tr>\n",
       "      <th>4</th>\n",
       "      <td>Belgium</td>\n",
       "      <td>Belgium Jupiler League</td>\n",
       "      <td>2008/2009</td>\n",
       "      <td>2008-08-16 00:00:00</td>\n",
       "      <td>1</td>\n",
       "      <td>3</td>\n",
       "      <td>9985.0</td>\n",
       "      <td>Away Team Win</td>\n",
       "    </tr>\n",
       "  </tbody>\n",
       "</table>\n",
       "</div>"
      ],
      "text/plain": [
       "  country_name             league_name     season                 date  \\\n",
       "0      Belgium  Belgium Jupiler League  2008/2009  2008-08-17 00:00:00   \n",
       "1      Belgium  Belgium Jupiler League  2008/2009  2008-08-16 00:00:00   \n",
       "2      Belgium  Belgium Jupiler League  2008/2009  2008-08-16 00:00:00   \n",
       "3      Belgium  Belgium Jupiler League  2008/2009  2008-08-17 00:00:00   \n",
       "4      Belgium  Belgium Jupiler League  2008/2009  2008-08-16 00:00:00   \n",
       "\n",
       "   home_team_goal  away_team_goal  winner_team_api_id   match_result  \n",
       "0               1               1                 NaN           Draw  \n",
       "1               0               0                 NaN           Draw  \n",
       "2               0               3              8635.0  Away Team Win  \n",
       "3               5               0              9991.0  Home Team Win  \n",
       "4               1               3              9985.0  Away Team Win  "
      ]
     },
     "execution_count": 12,
     "metadata": {},
     "output_type": "execute_result"
    }
   ],
   "source": [
    "#Selecting the matchs results with the winner team id and the match result\n",
    "match_result = pd.read_sql(\"\"\"SELECT\n",
    "                                ct.name AS country_name,\n",
    "                                lg.name AS league_name,\n",
    "                                season,\n",
    "                                date,\n",
    "                                home_team_goal,\n",
    "                                away_team_goal,\n",
    "                                CASE \n",
    "                                    WHEN home_team_goal > away_team_goal THEN home_team_api_id\n",
    "                                    WHEN home_team_goal < away_team_goal THEN away_team_api_id END AS winner_team_api_id,\n",
    "                                CASE \n",
    "                                    WHEN home_team_goal > away_team_goal THEN \"Home Team Win\"\n",
    "                                    WHEN home_team_goal < away_team_goal THEN \"Away Team Win\"\n",
    "                                    ELSE \"Draw\" END AS match_result\n",
    "                               FROM Match mt\n",
    "                               LEFT JOIN Country ct ON mt.country_id = ct.id\n",
    "                               LEFT JOIN League lg ON mt.league_id = lg.id\"\"\", con)\n",
    "\n",
    "match_result.head()"
   ]
  },
  {
   "cell_type": "code",
   "execution_count": 13,
   "metadata": {},
   "outputs": [
    {
     "data": {
      "text/plain": [
       "(25979, 8)"
      ]
     },
     "execution_count": 13,
     "metadata": {},
     "output_type": "execute_result"
    }
   ],
   "source": [
    "#Exploring shape of the match_result\n",
    "match_result.shape"
   ]
  },
  {
   "cell_type": "code",
   "execution_count": 14,
   "metadata": {},
   "outputs": [
    {
     "name": "stdout",
     "output_type": "stream",
     "text": [
      "<class 'pandas.core.frame.DataFrame'>\n",
      "RangeIndex: 25979 entries, 0 to 25978\n",
      "Data columns (total 8 columns):\n",
      " #   Column              Non-Null Count  Dtype  \n",
      "---  ------              --------------  -----  \n",
      " 0   country_name        25979 non-null  object \n",
      " 1   league_name         25979 non-null  object \n",
      " 2   season              25979 non-null  object \n",
      " 3   date                25979 non-null  object \n",
      " 4   home_team_goal      25979 non-null  int64  \n",
      " 5   away_team_goal      25979 non-null  int64  \n",
      " 6   winner_team_api_id  19383 non-null  float64\n",
      " 7   match_result        25979 non-null  object \n",
      "dtypes: float64(1), int64(2), object(5)\n",
      "memory usage: 1.6+ MB\n"
     ]
    }
   ],
   "source": [
    "#Exploring the number of nulls for each column\n",
    "match_result.info()"
   ]
  },
  {
   "cell_type": "code",
   "execution_count": 15,
   "metadata": {},
   "outputs": [
    {
     "data": {
      "text/plain": [
       "country_name             0\n",
       "league_name              0\n",
       "season                   0\n",
       "date                     0\n",
       "home_team_goal           0\n",
       "away_team_goal           0\n",
       "winner_team_api_id    6596\n",
       "match_result             0\n",
       "dtype: int64"
      ]
     },
     "execution_count": 15,
     "metadata": {},
     "output_type": "execute_result"
    }
   ],
   "source": [
    "match_result.isnull().sum()"
   ]
  },
  {
   "cell_type": "markdown",
   "metadata": {},
   "source": [
    "The only column with null values in this DataFrame is the winner_team_api_id which makes sense since matches that ended in a Draw don't have a winner. We don't need to do any aditional data cleaning for this DataFrame."
   ]
  },
  {
   "cell_type": "code",
   "execution_count": 16,
   "metadata": {
    "scrolled": true
   },
   "outputs": [
    {
     "data": {
      "text/plain": [
       "country_name           object\n",
       "league_name            object\n",
       "season                 object\n",
       "date                   object\n",
       "home_team_goal          int64\n",
       "away_team_goal          int64\n",
       "winner_team_api_id    float64\n",
       "match_result           object\n",
       "dtype: object"
      ]
     },
     "execution_count": 16,
     "metadata": {},
     "output_type": "execute_result"
    }
   ],
   "source": [
    "#Checking the columns data types\n",
    "match_result.dtypes"
   ]
  },
  {
   "cell_type": "markdown",
   "metadata": {},
   "source": [
    "### Wins and rating by team DataFrame\n",
    "> We will create a table that shows the number of wins for each team in each season and its average ratings. This dataframe will be used to see if teams with better ratings win more games."
   ]
  },
  {
   "cell_type": "code",
   "execution_count": 17,
   "metadata": {},
   "outputs": [
    {
     "data": {
      "text/html": [
       "<div>\n",
       "<style scoped>\n",
       "    .dataframe tbody tr th:only-of-type {\n",
       "        vertical-align: middle;\n",
       "    }\n",
       "\n",
       "    .dataframe tbody tr th {\n",
       "        vertical-align: top;\n",
       "    }\n",
       "\n",
       "    .dataframe thead th {\n",
       "        text-align: right;\n",
       "    }\n",
       "</style>\n",
       "<table border=\"1\" class=\"dataframe\">\n",
       "  <thead>\n",
       "    <tr style=\"text-align: right;\">\n",
       "      <th></th>\n",
       "      <th>winner_team_api_id</th>\n",
       "      <th>team_long_name</th>\n",
       "      <th>league_name</th>\n",
       "      <th>season</th>\n",
       "      <th>wins_by_season</th>\n",
       "    </tr>\n",
       "  </thead>\n",
       "  <tbody>\n",
       "    <tr>\n",
       "      <th>0</th>\n",
       "      <td>1601</td>\n",
       "      <td>Ruch Chorzów</td>\n",
       "      <td>Poland Ekstraklasa</td>\n",
       "      <td>2008/2009</td>\n",
       "      <td>9</td>\n",
       "    </tr>\n",
       "    <tr>\n",
       "      <th>1</th>\n",
       "      <td>1601</td>\n",
       "      <td>Ruch Chorzów</td>\n",
       "      <td>Poland Ekstraklasa</td>\n",
       "      <td>2009/2010</td>\n",
       "      <td>16</td>\n",
       "    </tr>\n",
       "    <tr>\n",
       "      <th>2</th>\n",
       "      <td>1601</td>\n",
       "      <td>Ruch Chorzów</td>\n",
       "      <td>Poland Ekstraklasa</td>\n",
       "      <td>2010/2011</td>\n",
       "      <td>10</td>\n",
       "    </tr>\n",
       "    <tr>\n",
       "      <th>3</th>\n",
       "      <td>1601</td>\n",
       "      <td>Ruch Chorzów</td>\n",
       "      <td>Poland Ekstraklasa</td>\n",
       "      <td>2011/2012</td>\n",
       "      <td>16</td>\n",
       "    </tr>\n",
       "    <tr>\n",
       "      <th>4</th>\n",
       "      <td>1601</td>\n",
       "      <td>Ruch Chorzów</td>\n",
       "      <td>Poland Ekstraklasa</td>\n",
       "      <td>2012/2013</td>\n",
       "      <td>8</td>\n",
       "    </tr>\n",
       "  </tbody>\n",
       "</table>\n",
       "</div>"
      ],
      "text/plain": [
       "   winner_team_api_id team_long_name         league_name     season  \\\n",
       "0                1601   Ruch Chorzów  Poland Ekstraklasa  2008/2009   \n",
       "1                1601   Ruch Chorzów  Poland Ekstraklasa  2009/2010   \n",
       "2                1601   Ruch Chorzów  Poland Ekstraklasa  2010/2011   \n",
       "3                1601   Ruch Chorzów  Poland Ekstraklasa  2011/2012   \n",
       "4                1601   Ruch Chorzów  Poland Ekstraklasa  2012/2013   \n",
       "\n",
       "   wins_by_season  \n",
       "0               9  \n",
       "1              16  \n",
       "2              10  \n",
       "3              16  \n",
       "4               8  "
      ]
     },
     "execution_count": 17,
     "metadata": {},
     "output_type": "execute_result"
    }
   ],
   "source": [
    "#Selecting the number of wins by team per season\n",
    "match_wins_by_team = pd.read_sql(\"\"\"WITH prep_match_winners AS (\n",
    "                               SELECT\n",
    "                                ct.name AS country_name,\n",
    "                                lg.name AS league_name,\n",
    "                                season,\n",
    "                                date,\n",
    "                                CASE \n",
    "                                    WHEN home_team_goal > away_team_goal THEN home_team_api_id\n",
    "                                    WHEN home_team_goal < away_team_goal THEN away_team_api_id END AS winner_team_api_id\n",
    "                               FROM Match mt\n",
    "                               LEFT JOIN Country ct ON mt.country_id = ct.id\n",
    "                               LEFT JOIN League lg ON mt.league_id = lg.id)\n",
    "                               SELECT \n",
    "                                winner_team_api_id,\n",
    "                                team_long_name,\n",
    "                                league_name,\n",
    "                                season,\n",
    "                                COUNT(winner_team_api_id)AS wins_by_season\n",
    "                               FROM prep_match_winners pmw\n",
    "                               LEFT JOIN Team tm ON tm.team_api_id = pmw.winner_team_api_id\n",
    "                               WHERE winner_team_api_id IS NOT NULL\n",
    "                               GROUP BY 1, 2, 3, 4\"\"\", con)\n",
    "\n",
    "match_wins_by_team.head()"
   ]
  },
  {
   "cell_type": "code",
   "execution_count": 18,
   "metadata": {},
   "outputs": [
    {
     "data": {
      "text/html": [
       "<div>\n",
       "<style scoped>\n",
       "    .dataframe tbody tr th:only-of-type {\n",
       "        vertical-align: middle;\n",
       "    }\n",
       "\n",
       "    .dataframe tbody tr th {\n",
       "        vertical-align: top;\n",
       "    }\n",
       "\n",
       "    .dataframe thead th {\n",
       "        text-align: right;\n",
       "    }\n",
       "</style>\n",
       "<table border=\"1\" class=\"dataframe\">\n",
       "  <thead>\n",
       "    <tr style=\"text-align: right;\">\n",
       "      <th></th>\n",
       "      <th>team_api_id</th>\n",
       "      <th>team_long_name</th>\n",
       "      <th>season</th>\n",
       "      <th>avg_speed</th>\n",
       "      <th>avg_dribbling</th>\n",
       "      <th>avg_passing</th>\n",
       "      <th>avg_creation_passing</th>\n",
       "      <th>avg_creation_crossing</th>\n",
       "      <th>avg_creation_shooting</th>\n",
       "      <th>avg_defence_pressure</th>\n",
       "      <th>avg_defence_aggression</th>\n",
       "    </tr>\n",
       "  </thead>\n",
       "  <tbody>\n",
       "    <tr>\n",
       "      <th>0</th>\n",
       "      <td>8350</td>\n",
       "      <td>1. FC Kaiserslautern</td>\n",
       "      <td>None</td>\n",
       "      <td>49.0</td>\n",
       "      <td>54.0</td>\n",
       "      <td>52.0</td>\n",
       "      <td>49.0</td>\n",
       "      <td>54.0</td>\n",
       "      <td>64.0</td>\n",
       "      <td>41.0</td>\n",
       "      <td>51.0</td>\n",
       "    </tr>\n",
       "    <tr>\n",
       "      <th>1</th>\n",
       "      <td>8350</td>\n",
       "      <td>1. FC Kaiserslautern</td>\n",
       "      <td>2009/2010</td>\n",
       "      <td>45.0</td>\n",
       "      <td>NaN</td>\n",
       "      <td>55.0</td>\n",
       "      <td>45.0</td>\n",
       "      <td>70.0</td>\n",
       "      <td>70.0</td>\n",
       "      <td>70.0</td>\n",
       "      <td>70.0</td>\n",
       "    </tr>\n",
       "    <tr>\n",
       "      <th>2</th>\n",
       "      <td>8350</td>\n",
       "      <td>1. FC Kaiserslautern</td>\n",
       "      <td>2010/2011</td>\n",
       "      <td>48.0</td>\n",
       "      <td>NaN</td>\n",
       "      <td>42.0</td>\n",
       "      <td>49.0</td>\n",
       "      <td>68.0</td>\n",
       "      <td>53.0</td>\n",
       "      <td>38.0</td>\n",
       "      <td>48.0</td>\n",
       "    </tr>\n",
       "    <tr>\n",
       "      <th>3</th>\n",
       "      <td>8350</td>\n",
       "      <td>1. FC Kaiserslautern</td>\n",
       "      <td>2011/2012</td>\n",
       "      <td>38.0</td>\n",
       "      <td>NaN</td>\n",
       "      <td>54.0</td>\n",
       "      <td>43.0</td>\n",
       "      <td>49.0</td>\n",
       "      <td>64.0</td>\n",
       "      <td>37.0</td>\n",
       "      <td>51.0</td>\n",
       "    </tr>\n",
       "    <tr>\n",
       "      <th>4</th>\n",
       "      <td>8350</td>\n",
       "      <td>1. FC Kaiserslautern</td>\n",
       "      <td>2013/2014</td>\n",
       "      <td>61.0</td>\n",
       "      <td>NaN</td>\n",
       "      <td>54.0</td>\n",
       "      <td>43.0</td>\n",
       "      <td>62.0</td>\n",
       "      <td>56.0</td>\n",
       "      <td>48.0</td>\n",
       "      <td>50.0</td>\n",
       "    </tr>\n",
       "  </tbody>\n",
       "</table>\n",
       "</div>"
      ],
      "text/plain": [
       "   team_api_id        team_long_name     season  avg_speed  avg_dribbling  \\\n",
       "0         8350  1. FC Kaiserslautern       None       49.0           54.0   \n",
       "1         8350  1. FC Kaiserslautern  2009/2010       45.0            NaN   \n",
       "2         8350  1. FC Kaiserslautern  2010/2011       48.0            NaN   \n",
       "3         8350  1. FC Kaiserslautern  2011/2012       38.0            NaN   \n",
       "4         8350  1. FC Kaiserslautern  2013/2014       61.0            NaN   \n",
       "\n",
       "   avg_passing  avg_creation_passing  avg_creation_crossing  \\\n",
       "0         52.0                  49.0                   54.0   \n",
       "1         55.0                  45.0                   70.0   \n",
       "2         42.0                  49.0                   68.0   \n",
       "3         54.0                  43.0                   49.0   \n",
       "4         54.0                  43.0                   62.0   \n",
       "\n",
       "   avg_creation_shooting  avg_defence_pressure  avg_defence_aggression  \n",
       "0                   64.0                  41.0                    51.0  \n",
       "1                   70.0                  70.0                    70.0  \n",
       "2                   53.0                  38.0                    48.0  \n",
       "3                   64.0                  37.0                    51.0  \n",
       "4                   56.0                  48.0                    50.0  "
      ]
     },
     "execution_count": 18,
     "metadata": {},
     "output_type": "execute_result"
    }
   ],
   "source": [
    "#Selecting the average ratings by team and season\n",
    "avg_team_attributes = pd.read_sql(\"\"\"SELECT \n",
    "                                     ta.team_api_id,\n",
    "                                     team_long_name,\n",
    "                                     season,\n",
    "                                     AVG(buildUpPlaySpeed) AS avg_speed,\n",
    "                                     AVG(buildUpPlayDribbling) AS avg_dribbling,\n",
    "                                     AVG(buildUpPlayPassing) AS avg_passing,\n",
    "                                     AVG(chanceCreationPassing) AS avg_creation_passing,\n",
    "                                     AVG(chanceCreationCrossing) AS avg_creation_crossing,\n",
    "                                     AVG(chanceCreationShooting) AS avg_creation_shooting,\n",
    "                                     AVG(defencePressure) AS avg_defence_pressure,\n",
    "                                     AVG(defenceAggression) AS avg_defence_aggression  \n",
    "                                     FROM Team_Attributes ta\n",
    "                                     LEFT JOIN Match mt USING(date)\n",
    "                                     LEFT JOIN Team tm USING(team_api_id)\n",
    "                                     GROUP BY 1, 2, 3\n",
    "                                     ORDER BY 2\"\"\", con)\n",
    "\n",
    "avg_team_attributes.head()"
   ]
  },
  {
   "cell_type": "code",
   "execution_count": 19,
   "metadata": {},
   "outputs": [
    {
     "data": {
      "text/plain": [
       "(1457, 11)"
      ]
     },
     "execution_count": 19,
     "metadata": {},
     "output_type": "execute_result"
    }
   ],
   "source": [
    "#Exploring the team attributes shape, info and data types\n",
    "avg_team_attributes.shape"
   ]
  },
  {
   "cell_type": "code",
   "execution_count": 20,
   "metadata": {},
   "outputs": [
    {
     "name": "stdout",
     "output_type": "stream",
     "text": [
      "<class 'pandas.core.frame.DataFrame'>\n",
      "RangeIndex: 1457 entries, 0 to 1456\n",
      "Data columns (total 11 columns):\n",
      " #   Column                  Non-Null Count  Dtype  \n",
      "---  ------                  --------------  -----  \n",
      " 0   team_api_id             1457 non-null   int64  \n",
      " 1   team_long_name          1457 non-null   object \n",
      " 2   season                  1213 non-null   object \n",
      " 3   avg_speed               1457 non-null   float64\n",
      " 4   avg_dribbling           488 non-null    float64\n",
      " 5   avg_passing             1457 non-null   float64\n",
      " 6   avg_creation_passing    1457 non-null   float64\n",
      " 7   avg_creation_crossing   1457 non-null   float64\n",
      " 8   avg_creation_shooting   1457 non-null   float64\n",
      " 9   avg_defence_pressure    1457 non-null   float64\n",
      " 10  avg_defence_aggression  1457 non-null   float64\n",
      "dtypes: float64(8), int64(1), object(2)\n",
      "memory usage: 125.3+ KB\n"
     ]
    }
   ],
   "source": [
    "avg_team_attributes.info()"
   ]
  },
  {
   "cell_type": "code",
   "execution_count": 21,
   "metadata": {},
   "outputs": [
    {
     "data": {
      "text/plain": [
       "team_api_id                 int64\n",
       "team_long_name             object\n",
       "season                     object\n",
       "avg_speed                 float64\n",
       "avg_dribbling             float64\n",
       "avg_passing               float64\n",
       "avg_creation_passing      float64\n",
       "avg_creation_crossing     float64\n",
       "avg_creation_shooting     float64\n",
       "avg_defence_pressure      float64\n",
       "avg_defence_aggression    float64\n",
       "dtype: object"
      ]
     },
     "execution_count": 21,
     "metadata": {},
     "output_type": "execute_result"
    }
   ],
   "source": [
    "avg_team_attributes.dtypes"
   ]
  },
  {
   "cell_type": "code",
   "execution_count": 22,
   "metadata": {},
   "outputs": [
    {
     "data": {
      "text/html": [
       "<div>\n",
       "<style scoped>\n",
       "    .dataframe tbody tr th:only-of-type {\n",
       "        vertical-align: middle;\n",
       "    }\n",
       "\n",
       "    .dataframe tbody tr th {\n",
       "        vertical-align: top;\n",
       "    }\n",
       "\n",
       "    .dataframe thead th {\n",
       "        text-align: right;\n",
       "    }\n",
       "</style>\n",
       "<table border=\"1\" class=\"dataframe\">\n",
       "  <thead>\n",
       "    <tr style=\"text-align: right;\">\n",
       "      <th></th>\n",
       "      <th>winner_team_api_id</th>\n",
       "      <th>team_long_name</th>\n",
       "      <th>league_name</th>\n",
       "      <th>season</th>\n",
       "      <th>wins_by_season</th>\n",
       "      <th>team_api_id</th>\n",
       "      <th>avg_speed</th>\n",
       "      <th>avg_dribbling</th>\n",
       "      <th>avg_passing</th>\n",
       "      <th>avg_creation_passing</th>\n",
       "      <th>avg_creation_crossing</th>\n",
       "      <th>avg_creation_shooting</th>\n",
       "      <th>avg_defence_pressure</th>\n",
       "      <th>avg_defence_aggression</th>\n",
       "    </tr>\n",
       "  </thead>\n",
       "  <tbody>\n",
       "    <tr>\n",
       "      <th>0</th>\n",
       "      <td>1601</td>\n",
       "      <td>Ruch Chorzów</td>\n",
       "      <td>Poland Ekstraklasa</td>\n",
       "      <td>2009/2010</td>\n",
       "      <td>16</td>\n",
       "      <td>1601</td>\n",
       "      <td>30.0</td>\n",
       "      <td>NaN</td>\n",
       "      <td>40.0</td>\n",
       "      <td>50.0</td>\n",
       "      <td>35.0</td>\n",
       "      <td>70.0</td>\n",
       "      <td>65.0</td>\n",
       "      <td>60.0</td>\n",
       "    </tr>\n",
       "    <tr>\n",
       "      <th>1</th>\n",
       "      <td>1601</td>\n",
       "      <td>Ruch Chorzów</td>\n",
       "      <td>Poland Ekstraklasa</td>\n",
       "      <td>2010/2011</td>\n",
       "      <td>10</td>\n",
       "      <td>1601</td>\n",
       "      <td>48.0</td>\n",
       "      <td>NaN</td>\n",
       "      <td>51.0</td>\n",
       "      <td>68.0</td>\n",
       "      <td>67.0</td>\n",
       "      <td>51.0</td>\n",
       "      <td>46.0</td>\n",
       "      <td>48.0</td>\n",
       "    </tr>\n",
       "    <tr>\n",
       "      <th>2</th>\n",
       "      <td>1601</td>\n",
       "      <td>Ruch Chorzów</td>\n",
       "      <td>Poland Ekstraklasa</td>\n",
       "      <td>2011/2012</td>\n",
       "      <td>16</td>\n",
       "      <td>1601</td>\n",
       "      <td>53.0</td>\n",
       "      <td>NaN</td>\n",
       "      <td>55.0</td>\n",
       "      <td>44.0</td>\n",
       "      <td>65.0</td>\n",
       "      <td>50.0</td>\n",
       "      <td>43.0</td>\n",
       "      <td>44.0</td>\n",
       "    </tr>\n",
       "    <tr>\n",
       "      <th>3</th>\n",
       "      <td>1601</td>\n",
       "      <td>Ruch Chorzów</td>\n",
       "      <td>Poland Ekstraklasa</td>\n",
       "      <td>2013/2014</td>\n",
       "      <td>14</td>\n",
       "      <td>1601</td>\n",
       "      <td>53.0</td>\n",
       "      <td>NaN</td>\n",
       "      <td>55.0</td>\n",
       "      <td>44.0</td>\n",
       "      <td>65.0</td>\n",
       "      <td>50.0</td>\n",
       "      <td>43.0</td>\n",
       "      <td>44.0</td>\n",
       "    </tr>\n",
       "    <tr>\n",
       "      <th>4</th>\n",
       "      <td>1601</td>\n",
       "      <td>Ruch Chorzów</td>\n",
       "      <td>Poland Ekstraklasa</td>\n",
       "      <td>2014/2015</td>\n",
       "      <td>8</td>\n",
       "      <td>1601</td>\n",
       "      <td>53.0</td>\n",
       "      <td>48.0</td>\n",
       "      <td>38.0</td>\n",
       "      <td>66.0</td>\n",
       "      <td>65.0</td>\n",
       "      <td>50.0</td>\n",
       "      <td>43.0</td>\n",
       "      <td>44.0</td>\n",
       "    </tr>\n",
       "  </tbody>\n",
       "</table>\n",
       "</div>"
      ],
      "text/plain": [
       "   winner_team_api_id team_long_name         league_name     season  \\\n",
       "0                1601   Ruch Chorzów  Poland Ekstraklasa  2009/2010   \n",
       "1                1601   Ruch Chorzów  Poland Ekstraklasa  2010/2011   \n",
       "2                1601   Ruch Chorzów  Poland Ekstraklasa  2011/2012   \n",
       "3                1601   Ruch Chorzów  Poland Ekstraklasa  2013/2014   \n",
       "4                1601   Ruch Chorzów  Poland Ekstraklasa  2014/2015   \n",
       "\n",
       "   wins_by_season  team_api_id  avg_speed  avg_dribbling  avg_passing  \\\n",
       "0              16         1601       30.0            NaN         40.0   \n",
       "1              10         1601       48.0            NaN         51.0   \n",
       "2              16         1601       53.0            NaN         55.0   \n",
       "3              14         1601       53.0            NaN         55.0   \n",
       "4               8         1601       53.0           48.0         38.0   \n",
       "\n",
       "   avg_creation_passing  avg_creation_crossing  avg_creation_shooting  \\\n",
       "0                  50.0                   35.0                   70.0   \n",
       "1                  68.0                   67.0                   51.0   \n",
       "2                  44.0                   65.0                   50.0   \n",
       "3                  44.0                   65.0                   50.0   \n",
       "4                  66.0                   65.0                   50.0   \n",
       "\n",
       "   avg_defence_pressure  avg_defence_aggression  \n",
       "0                  65.0                    60.0  \n",
       "1                  46.0                    48.0  \n",
       "2                  43.0                    44.0  \n",
       "3                  43.0                    44.0  \n",
       "4                  43.0                    44.0  "
      ]
     },
     "execution_count": 22,
     "metadata": {},
     "output_type": "execute_result"
    }
   ],
   "source": [
    "#Merging team attributes and victories by team\n",
    "df_team_wins_and_attributes = match_wins_by_team.merge(avg_team_attributes, left_on=['winner_team_api_id', 'team_long_name', 'season'],\n",
    "                                                      right_on=['team_api_id', 'team_long_name','season'])\n",
    "df_team_wins_and_attributes.head()"
   ]
  },
  {
   "cell_type": "code",
   "execution_count": 23,
   "metadata": {},
   "outputs": [
    {
     "data": {
      "text/plain": [
       "(892, 14)"
      ]
     },
     "execution_count": 23,
     "metadata": {},
     "output_type": "execute_result"
    }
   ],
   "source": [
    "#Exploring the new dataframe shape\n",
    "df_team_wins_and_attributes.shape"
   ]
  },
  {
   "cell_type": "code",
   "execution_count": 24,
   "metadata": {},
   "outputs": [
    {
     "data": {
      "text/plain": [
       "winner_team_api_id          0\n",
       "team_long_name              0\n",
       "league_name                 0\n",
       "season                      0\n",
       "wins_by_season              0\n",
       "team_api_id                 0\n",
       "avg_speed                   0\n",
       "avg_dribbling             718\n",
       "avg_passing                 0\n",
       "avg_creation_passing        0\n",
       "avg_creation_crossing       0\n",
       "avg_creation_shooting       0\n",
       "avg_defence_pressure        0\n",
       "avg_defence_aggression      0\n",
       "dtype: int64"
      ]
     },
     "execution_count": 24,
     "metadata": {},
     "output_type": "execute_result"
    }
   ],
   "source": [
    "#Exploring if the new dataframe has null values\n",
    "df_team_wins_and_attributes.isnull().sum()"
   ]
  },
  {
   "cell_type": "code",
   "execution_count": 25,
   "metadata": {},
   "outputs": [
    {
     "name": "stdout",
     "output_type": "stream",
     "text": [
      "<class 'pandas.core.frame.DataFrame'>\n",
      "Int64Index: 892 entries, 0 to 891\n",
      "Data columns (total 14 columns):\n",
      " #   Column                  Non-Null Count  Dtype  \n",
      "---  ------                  --------------  -----  \n",
      " 0   winner_team_api_id      892 non-null    int64  \n",
      " 1   team_long_name          892 non-null    object \n",
      " 2   league_name             892 non-null    object \n",
      " 3   season                  892 non-null    object \n",
      " 4   wins_by_season          892 non-null    int64  \n",
      " 5   team_api_id             892 non-null    int64  \n",
      " 6   avg_speed               892 non-null    float64\n",
      " 7   avg_dribbling           174 non-null    float64\n",
      " 8   avg_passing             892 non-null    float64\n",
      " 9   avg_creation_passing    892 non-null    float64\n",
      " 10  avg_creation_crossing   892 non-null    float64\n",
      " 11  avg_creation_shooting   892 non-null    float64\n",
      " 12  avg_defence_pressure    892 non-null    float64\n",
      " 13  avg_defence_aggression  892 non-null    float64\n",
      "dtypes: float64(8), int64(3), object(3)\n",
      "memory usage: 104.5+ KB\n"
     ]
    }
   ],
   "source": [
    "df_team_wins_and_attributes.info()"
   ]
  },
  {
   "cell_type": "markdown",
   "metadata": {},
   "source": [
    "As the average dribbling has a lot of null values we will drop this column and won't use it in our analysis"
   ]
  },
  {
   "cell_type": "code",
   "execution_count": 26,
   "metadata": {},
   "outputs": [
    {
     "data": {
      "text/html": [
       "<div>\n",
       "<style scoped>\n",
       "    .dataframe tbody tr th:only-of-type {\n",
       "        vertical-align: middle;\n",
       "    }\n",
       "\n",
       "    .dataframe tbody tr th {\n",
       "        vertical-align: top;\n",
       "    }\n",
       "\n",
       "    .dataframe thead th {\n",
       "        text-align: right;\n",
       "    }\n",
       "</style>\n",
       "<table border=\"1\" class=\"dataframe\">\n",
       "  <thead>\n",
       "    <tr style=\"text-align: right;\">\n",
       "      <th></th>\n",
       "      <th>winner_team_api_id</th>\n",
       "      <th>team_long_name</th>\n",
       "      <th>league_name</th>\n",
       "      <th>season</th>\n",
       "      <th>wins_by_season</th>\n",
       "      <th>team_api_id</th>\n",
       "      <th>avg_speed</th>\n",
       "      <th>avg_passing</th>\n",
       "      <th>avg_creation_passing</th>\n",
       "      <th>avg_creation_crossing</th>\n",
       "      <th>avg_creation_shooting</th>\n",
       "      <th>avg_defence_pressure</th>\n",
       "      <th>avg_defence_aggression</th>\n",
       "    </tr>\n",
       "  </thead>\n",
       "  <tbody>\n",
       "    <tr>\n",
       "      <th>0</th>\n",
       "      <td>1601</td>\n",
       "      <td>Ruch Chorzów</td>\n",
       "      <td>Poland Ekstraklasa</td>\n",
       "      <td>2009/2010</td>\n",
       "      <td>16</td>\n",
       "      <td>1601</td>\n",
       "      <td>30.0</td>\n",
       "      <td>40.0</td>\n",
       "      <td>50.0</td>\n",
       "      <td>35.0</td>\n",
       "      <td>70.0</td>\n",
       "      <td>65.0</td>\n",
       "      <td>60.0</td>\n",
       "    </tr>\n",
       "    <tr>\n",
       "      <th>1</th>\n",
       "      <td>1601</td>\n",
       "      <td>Ruch Chorzów</td>\n",
       "      <td>Poland Ekstraklasa</td>\n",
       "      <td>2010/2011</td>\n",
       "      <td>10</td>\n",
       "      <td>1601</td>\n",
       "      <td>48.0</td>\n",
       "      <td>51.0</td>\n",
       "      <td>68.0</td>\n",
       "      <td>67.0</td>\n",
       "      <td>51.0</td>\n",
       "      <td>46.0</td>\n",
       "      <td>48.0</td>\n",
       "    </tr>\n",
       "    <tr>\n",
       "      <th>2</th>\n",
       "      <td>1601</td>\n",
       "      <td>Ruch Chorzów</td>\n",
       "      <td>Poland Ekstraklasa</td>\n",
       "      <td>2011/2012</td>\n",
       "      <td>16</td>\n",
       "      <td>1601</td>\n",
       "      <td>53.0</td>\n",
       "      <td>55.0</td>\n",
       "      <td>44.0</td>\n",
       "      <td>65.0</td>\n",
       "      <td>50.0</td>\n",
       "      <td>43.0</td>\n",
       "      <td>44.0</td>\n",
       "    </tr>\n",
       "    <tr>\n",
       "      <th>3</th>\n",
       "      <td>1601</td>\n",
       "      <td>Ruch Chorzów</td>\n",
       "      <td>Poland Ekstraklasa</td>\n",
       "      <td>2013/2014</td>\n",
       "      <td>14</td>\n",
       "      <td>1601</td>\n",
       "      <td>53.0</td>\n",
       "      <td>55.0</td>\n",
       "      <td>44.0</td>\n",
       "      <td>65.0</td>\n",
       "      <td>50.0</td>\n",
       "      <td>43.0</td>\n",
       "      <td>44.0</td>\n",
       "    </tr>\n",
       "    <tr>\n",
       "      <th>4</th>\n",
       "      <td>1601</td>\n",
       "      <td>Ruch Chorzów</td>\n",
       "      <td>Poland Ekstraklasa</td>\n",
       "      <td>2014/2015</td>\n",
       "      <td>8</td>\n",
       "      <td>1601</td>\n",
       "      <td>53.0</td>\n",
       "      <td>38.0</td>\n",
       "      <td>66.0</td>\n",
       "      <td>65.0</td>\n",
       "      <td>50.0</td>\n",
       "      <td>43.0</td>\n",
       "      <td>44.0</td>\n",
       "    </tr>\n",
       "  </tbody>\n",
       "</table>\n",
       "</div>"
      ],
      "text/plain": [
       "   winner_team_api_id team_long_name         league_name     season  \\\n",
       "0                1601   Ruch Chorzów  Poland Ekstraklasa  2009/2010   \n",
       "1                1601   Ruch Chorzów  Poland Ekstraklasa  2010/2011   \n",
       "2                1601   Ruch Chorzów  Poland Ekstraklasa  2011/2012   \n",
       "3                1601   Ruch Chorzów  Poland Ekstraklasa  2013/2014   \n",
       "4                1601   Ruch Chorzów  Poland Ekstraklasa  2014/2015   \n",
       "\n",
       "   wins_by_season  team_api_id  avg_speed  avg_passing  avg_creation_passing  \\\n",
       "0              16         1601       30.0         40.0                  50.0   \n",
       "1              10         1601       48.0         51.0                  68.0   \n",
       "2              16         1601       53.0         55.0                  44.0   \n",
       "3              14         1601       53.0         55.0                  44.0   \n",
       "4               8         1601       53.0         38.0                  66.0   \n",
       "\n",
       "   avg_creation_crossing  avg_creation_shooting  avg_defence_pressure  \\\n",
       "0                   35.0                   70.0                  65.0   \n",
       "1                   67.0                   51.0                  46.0   \n",
       "2                   65.0                   50.0                  43.0   \n",
       "3                   65.0                   50.0                  43.0   \n",
       "4                   65.0                   50.0                  43.0   \n",
       "\n",
       "   avg_defence_aggression  \n",
       "0                    60.0  \n",
       "1                    48.0  \n",
       "2                    44.0  \n",
       "3                    44.0  \n",
       "4                    44.0  "
      ]
     },
     "execution_count": 26,
     "metadata": {},
     "output_type": "execute_result"
    }
   ],
   "source": [
    "#Dropping the avg dribbling column\n",
    "df_team_wins_and_attributes.drop('avg_dribbling', axis=1, inplace=True)\n",
    "df_team_wins_and_attributes.head()"
   ]
  },
  {
   "cell_type": "markdown",
   "metadata": {},
   "source": [
    "### Players attributes DataFrame\n",
    "> We will create a table that shows the players attributes and his first and last overall ratings. This dataframe will be used to see which players improved the most during the period and if players with specific characteristics have a better overall rating."
   ]
  },
  {
   "cell_type": "code",
   "execution_count": 27,
   "metadata": {},
   "outputs": [
    {
     "data": {
      "text/html": [
       "<div>\n",
       "<style scoped>\n",
       "    .dataframe tbody tr th:only-of-type {\n",
       "        vertical-align: middle;\n",
       "    }\n",
       "\n",
       "    .dataframe tbody tr th {\n",
       "        vertical-align: top;\n",
       "    }\n",
       "\n",
       "    .dataframe thead th {\n",
       "        text-align: right;\n",
       "    }\n",
       "</style>\n",
       "<table border=\"1\" class=\"dataframe\">\n",
       "  <thead>\n",
       "    <tr style=\"text-align: right;\">\n",
       "      <th></th>\n",
       "      <th>player_fifa_api_id</th>\n",
       "      <th>player_api_id</th>\n",
       "      <th>date</th>\n",
       "      <th>overall_rating</th>\n",
       "      <th>preferred_foot</th>\n",
       "      <th>attacking_work_rate</th>\n",
       "      <th>player_name</th>\n",
       "      <th>height</th>\n",
       "      <th>weight</th>\n",
       "      <th>player_row_number_asc</th>\n",
       "      <th>player_row_number_desc</th>\n",
       "      <th>first_overall_rating</th>\n",
       "    </tr>\n",
       "  </thead>\n",
       "  <tbody>\n",
       "    <tr>\n",
       "      <th>0</th>\n",
       "      <td>218353</td>\n",
       "      <td>505942</td>\n",
       "      <td>2007-02-22 00:00:00</td>\n",
       "      <td>61.0</td>\n",
       "      <td>right</td>\n",
       "      <td>medium</td>\n",
       "      <td>Aaron Appindangoye</td>\n",
       "      <td>182.88</td>\n",
       "      <td>187</td>\n",
       "      <td>1</td>\n",
       "      <td>5</td>\n",
       "      <td>61</td>\n",
       "    </tr>\n",
       "    <tr>\n",
       "      <th>1</th>\n",
       "      <td>218353</td>\n",
       "      <td>505942</td>\n",
       "      <td>2015-03-20 00:00:00</td>\n",
       "      <td>61.0</td>\n",
       "      <td>right</td>\n",
       "      <td>medium</td>\n",
       "      <td>Aaron Appindangoye</td>\n",
       "      <td>182.88</td>\n",
       "      <td>187</td>\n",
       "      <td>2</td>\n",
       "      <td>4</td>\n",
       "      <td>61</td>\n",
       "    </tr>\n",
       "    <tr>\n",
       "      <th>2</th>\n",
       "      <td>218353</td>\n",
       "      <td>505942</td>\n",
       "      <td>2015-09-21 00:00:00</td>\n",
       "      <td>62.0</td>\n",
       "      <td>right</td>\n",
       "      <td>medium</td>\n",
       "      <td>Aaron Appindangoye</td>\n",
       "      <td>182.88</td>\n",
       "      <td>187</td>\n",
       "      <td>3</td>\n",
       "      <td>3</td>\n",
       "      <td>61</td>\n",
       "    </tr>\n",
       "    <tr>\n",
       "      <th>3</th>\n",
       "      <td>218353</td>\n",
       "      <td>505942</td>\n",
       "      <td>2015-11-19 00:00:00</td>\n",
       "      <td>67.0</td>\n",
       "      <td>right</td>\n",
       "      <td>medium</td>\n",
       "      <td>Aaron Appindangoye</td>\n",
       "      <td>182.88</td>\n",
       "      <td>187</td>\n",
       "      <td>4</td>\n",
       "      <td>2</td>\n",
       "      <td>61</td>\n",
       "    </tr>\n",
       "    <tr>\n",
       "      <th>4</th>\n",
       "      <td>218353</td>\n",
       "      <td>505942</td>\n",
       "      <td>2016-02-18 00:00:00</td>\n",
       "      <td>67.0</td>\n",
       "      <td>right</td>\n",
       "      <td>medium</td>\n",
       "      <td>Aaron Appindangoye</td>\n",
       "      <td>182.88</td>\n",
       "      <td>187</td>\n",
       "      <td>5</td>\n",
       "      <td>1</td>\n",
       "      <td>61</td>\n",
       "    </tr>\n",
       "  </tbody>\n",
       "</table>\n",
       "</div>"
      ],
      "text/plain": [
       "   player_fifa_api_id  player_api_id                 date  overall_rating  \\\n",
       "0              218353         505942  2007-02-22 00:00:00            61.0   \n",
       "1              218353         505942  2015-03-20 00:00:00            61.0   \n",
       "2              218353         505942  2015-09-21 00:00:00            62.0   \n",
       "3              218353         505942  2015-11-19 00:00:00            67.0   \n",
       "4              218353         505942  2016-02-18 00:00:00            67.0   \n",
       "\n",
       "  preferred_foot attacking_work_rate         player_name  height  weight  \\\n",
       "0          right              medium  Aaron Appindangoye  182.88     187   \n",
       "1          right              medium  Aaron Appindangoye  182.88     187   \n",
       "2          right              medium  Aaron Appindangoye  182.88     187   \n",
       "3          right              medium  Aaron Appindangoye  182.88     187   \n",
       "4          right              medium  Aaron Appindangoye  182.88     187   \n",
       "\n",
       "   player_row_number_asc  player_row_number_desc  first_overall_rating  \n",
       "0                      1                       5                    61  \n",
       "1                      2                       4                    61  \n",
       "2                      3                       3                    61  \n",
       "3                      4                       2                    61  \n",
       "4                      5                       1                    61  "
      ]
     },
     "execution_count": 27,
     "metadata": {},
     "output_type": "execute_result"
    }
   ],
   "source": [
    "#Selecting the players information and which overall rating it is in time\n",
    "player = pd.read_sql(\"\"\"SELECT \n",
    "                        pa.player_fifa_api_id,\n",
    "                        pa.player_api_id,\n",
    "                        date,\n",
    "                        overall_rating,\n",
    "                        preferred_foot,\n",
    "                        attacking_work_rate,\n",
    "                        player_name,\n",
    "                        height,\n",
    "                        weight,\n",
    "                        ROW_NUMBER() OVER (PARTITION BY player_api_id ORDER BY date ASC) AS player_row_number_asc,\n",
    "                        ROW_NUMBER() OVER (PARTITION BY player_api_id ORDER BY date DESC) AS player_row_number_desc,\n",
    "                        FIRST_VALUE(overall_rating) OVER (PARTITION BY player_api_id ORDER BY date ASC) AS first_overall_rating\n",
    "                        FROM Player_Attributes pa\n",
    "                        LEFT JOIN Player pl USING(player_api_id)\n",
    "                        ORDER BY player_name, date ASC\"\"\", con)\n",
    "\n",
    "player.head()"
   ]
  },
  {
   "cell_type": "code",
   "execution_count": 28,
   "metadata": {},
   "outputs": [
    {
     "data": {
      "text/html": [
       "<div>\n",
       "<style scoped>\n",
       "    .dataframe tbody tr th:only-of-type {\n",
       "        vertical-align: middle;\n",
       "    }\n",
       "\n",
       "    .dataframe tbody tr th {\n",
       "        vertical-align: top;\n",
       "    }\n",
       "\n",
       "    .dataframe thead th {\n",
       "        text-align: right;\n",
       "    }\n",
       "</style>\n",
       "<table border=\"1\" class=\"dataframe\">\n",
       "  <thead>\n",
       "    <tr style=\"text-align: right;\">\n",
       "      <th></th>\n",
       "      <th>player_fifa_api_id</th>\n",
       "      <th>player_api_id</th>\n",
       "      <th>overall_rating</th>\n",
       "      <th>height</th>\n",
       "      <th>weight</th>\n",
       "      <th>player_row_number_asc</th>\n",
       "      <th>player_row_number_desc</th>\n",
       "      <th>first_overall_rating</th>\n",
       "    </tr>\n",
       "  </thead>\n",
       "  <tbody>\n",
       "    <tr>\n",
       "      <th>count</th>\n",
       "      <td>183978.000000</td>\n",
       "      <td>183978.000000</td>\n",
       "      <td>183142.000000</td>\n",
       "      <td>183978.000000</td>\n",
       "      <td>183978.000000</td>\n",
       "      <td>183978.000000</td>\n",
       "      <td>183978.000000</td>\n",
       "      <td>183978.000000</td>\n",
       "    </tr>\n",
       "    <tr>\n",
       "      <th>mean</th>\n",
       "      <td>165671.524291</td>\n",
       "      <td>135900.617324</td>\n",
       "      <td>68.600015</td>\n",
       "      <td>181.878872</td>\n",
       "      <td>168.776245</td>\n",
       "      <td>11.470486</td>\n",
       "      <td>11.470486</td>\n",
       "      <td>63.344503</td>\n",
       "    </tr>\n",
       "    <tr>\n",
       "      <th>std</th>\n",
       "      <td>53851.094769</td>\n",
       "      <td>136927.840510</td>\n",
       "      <td>7.041139</td>\n",
       "      <td>6.394818</td>\n",
       "      <td>15.088920</td>\n",
       "      <td>8.255705</td>\n",
       "      <td>8.255705</td>\n",
       "      <td>8.692546</td>\n",
       "    </tr>\n",
       "    <tr>\n",
       "      <th>min</th>\n",
       "      <td>2.000000</td>\n",
       "      <td>2625.000000</td>\n",
       "      <td>33.000000</td>\n",
       "      <td>157.480000</td>\n",
       "      <td>117.000000</td>\n",
       "      <td>1.000000</td>\n",
       "      <td>1.000000</td>\n",
       "      <td>33.000000</td>\n",
       "    </tr>\n",
       "    <tr>\n",
       "      <th>25%</th>\n",
       "      <td>155798.000000</td>\n",
       "      <td>34763.000000</td>\n",
       "      <td>64.000000</td>\n",
       "      <td>177.800000</td>\n",
       "      <td>159.000000</td>\n",
       "      <td>5.000000</td>\n",
       "      <td>5.000000</td>\n",
       "      <td>58.000000</td>\n",
       "    </tr>\n",
       "    <tr>\n",
       "      <th>50%</th>\n",
       "      <td>183488.000000</td>\n",
       "      <td>77741.000000</td>\n",
       "      <td>69.000000</td>\n",
       "      <td>182.880000</td>\n",
       "      <td>168.000000</td>\n",
       "      <td>10.000000</td>\n",
       "      <td>10.000000</td>\n",
       "      <td>63.000000</td>\n",
       "    </tr>\n",
       "    <tr>\n",
       "      <th>75%</th>\n",
       "      <td>199848.000000</td>\n",
       "      <td>191080.000000</td>\n",
       "      <td>73.000000</td>\n",
       "      <td>185.420000</td>\n",
       "      <td>179.000000</td>\n",
       "      <td>17.000000</td>\n",
       "      <td>17.000000</td>\n",
       "      <td>69.000000</td>\n",
       "    </tr>\n",
       "    <tr>\n",
       "      <th>max</th>\n",
       "      <td>234141.000000</td>\n",
       "      <td>750584.000000</td>\n",
       "      <td>94.000000</td>\n",
       "      <td>208.280000</td>\n",
       "      <td>243.000000</td>\n",
       "      <td>56.000000</td>\n",
       "      <td>56.000000</td>\n",
       "      <td>93.000000</td>\n",
       "    </tr>\n",
       "  </tbody>\n",
       "</table>\n",
       "</div>"
      ],
      "text/plain": [
       "       player_fifa_api_id  player_api_id  overall_rating         height  \\\n",
       "count       183978.000000  183978.000000   183142.000000  183978.000000   \n",
       "mean        165671.524291  135900.617324       68.600015     181.878872   \n",
       "std          53851.094769  136927.840510        7.041139       6.394818   \n",
       "min              2.000000    2625.000000       33.000000     157.480000   \n",
       "25%         155798.000000   34763.000000       64.000000     177.800000   \n",
       "50%         183488.000000   77741.000000       69.000000     182.880000   \n",
       "75%         199848.000000  191080.000000       73.000000     185.420000   \n",
       "max         234141.000000  750584.000000       94.000000     208.280000   \n",
       "\n",
       "              weight  player_row_number_asc  player_row_number_desc  \\\n",
       "count  183978.000000          183978.000000           183978.000000   \n",
       "mean      168.776245              11.470486               11.470486   \n",
       "std        15.088920               8.255705                8.255705   \n",
       "min       117.000000               1.000000                1.000000   \n",
       "25%       159.000000               5.000000                5.000000   \n",
       "50%       168.000000              10.000000               10.000000   \n",
       "75%       179.000000              17.000000               17.000000   \n",
       "max       243.000000              56.000000               56.000000   \n",
       "\n",
       "       first_overall_rating  \n",
       "count         183978.000000  \n",
       "mean              63.344503  \n",
       "std                8.692546  \n",
       "min               33.000000  \n",
       "25%               58.000000  \n",
       "50%               63.000000  \n",
       "75%               69.000000  \n",
       "max               93.000000  "
      ]
     },
     "execution_count": 28,
     "metadata": {},
     "output_type": "execute_result"
    }
   ],
   "source": [
    "#Exploring the main descriptive statistics of the player's dataframe\n",
    "player.describe()"
   ]
  },
  {
   "cell_type": "code",
   "execution_count": 29,
   "metadata": {},
   "outputs": [
    {
     "data": {
      "text/plain": [
       "(183978, 12)"
      ]
     },
     "execution_count": 29,
     "metadata": {},
     "output_type": "execute_result"
    }
   ],
   "source": [
    "#Exploring the player dataframe shape\n",
    "player.shape"
   ]
  },
  {
   "cell_type": "code",
   "execution_count": 30,
   "metadata": {},
   "outputs": [
    {
     "name": "stdout",
     "output_type": "stream",
     "text": [
      "<class 'pandas.core.frame.DataFrame'>\n",
      "RangeIndex: 183978 entries, 0 to 183977\n",
      "Data columns (total 12 columns):\n",
      " #   Column                  Non-Null Count   Dtype  \n",
      "---  ------                  --------------   -----  \n",
      " 0   player_fifa_api_id      183978 non-null  int64  \n",
      " 1   player_api_id           183978 non-null  int64  \n",
      " 2   date                    183978 non-null  object \n",
      " 3   overall_rating          183142 non-null  float64\n",
      " 4   preferred_foot          183142 non-null  object \n",
      " 5   attacking_work_rate     180748 non-null  object \n",
      " 6   player_name             183978 non-null  object \n",
      " 7   height                  183978 non-null  float64\n",
      " 8   weight                  183978 non-null  int64  \n",
      " 9   player_row_number_asc   183978 non-null  int64  \n",
      " 10  player_row_number_desc  183978 non-null  int64  \n",
      " 11  first_overall_rating    183978 non-null  int64  \n",
      "dtypes: float64(2), int64(6), object(4)\n",
      "memory usage: 16.8+ MB\n"
     ]
    }
   ],
   "source": [
    "player.info()"
   ]
  },
  {
   "cell_type": "code",
   "execution_count": 31,
   "metadata": {},
   "outputs": [
    {
     "data": {
      "text/html": [
       "<div>\n",
       "<style scoped>\n",
       "    .dataframe tbody tr th:only-of-type {\n",
       "        vertical-align: middle;\n",
       "    }\n",
       "\n",
       "    .dataframe tbody tr th {\n",
       "        vertical-align: top;\n",
       "    }\n",
       "\n",
       "    .dataframe thead th {\n",
       "        text-align: right;\n",
       "    }\n",
       "</style>\n",
       "<table border=\"1\" class=\"dataframe\">\n",
       "  <thead>\n",
       "    <tr style=\"text-align: right;\">\n",
       "      <th></th>\n",
       "      <th>player_fifa_api_id</th>\n",
       "      <th>player_api_id</th>\n",
       "      <th>date</th>\n",
       "      <th>overall_rating</th>\n",
       "      <th>preferred_foot</th>\n",
       "      <th>attacking_work_rate</th>\n",
       "      <th>player_name</th>\n",
       "      <th>height</th>\n",
       "      <th>weight</th>\n",
       "      <th>player_row_number_asc</th>\n",
       "      <th>player_row_number_desc</th>\n",
       "      <th>first_overall_rating</th>\n",
       "    </tr>\n",
       "  </thead>\n",
       "  <tbody>\n",
       "    <tr>\n",
       "      <th>0</th>\n",
       "      <td>218353</td>\n",
       "      <td>505942</td>\n",
       "      <td>2007-02-22 00:00:00</td>\n",
       "      <td>61.0</td>\n",
       "      <td>right</td>\n",
       "      <td>medium</td>\n",
       "      <td>Aaron Appindangoye</td>\n",
       "      <td>182.88</td>\n",
       "      <td>187</td>\n",
       "      <td>1</td>\n",
       "      <td>5</td>\n",
       "      <td>61</td>\n",
       "    </tr>\n",
       "    <tr>\n",
       "      <th>5</th>\n",
       "      <td>189615</td>\n",
       "      <td>155782</td>\n",
       "      <td>2007-02-22 00:00:00</td>\n",
       "      <td>53.0</td>\n",
       "      <td>right</td>\n",
       "      <td>medium</td>\n",
       "      <td>Aaron Cresswell</td>\n",
       "      <td>170.18</td>\n",
       "      <td>146</td>\n",
       "      <td>1</td>\n",
       "      <td>33</td>\n",
       "      <td>53</td>\n",
       "    </tr>\n",
       "    <tr>\n",
       "      <th>38</th>\n",
       "      <td>186170</td>\n",
       "      <td>162549</td>\n",
       "      <td>2007-02-22 00:00:00</td>\n",
       "      <td>59.0</td>\n",
       "      <td>right</td>\n",
       "      <td>medium</td>\n",
       "      <td>Aaron Doran</td>\n",
       "      <td>170.18</td>\n",
       "      <td>163</td>\n",
       "      <td>1</td>\n",
       "      <td>26</td>\n",
       "      <td>59</td>\n",
       "    </tr>\n",
       "    <tr>\n",
       "      <th>64</th>\n",
       "      <td>140161</td>\n",
       "      <td>30572</td>\n",
       "      <td>2007-02-22 00:00:00</td>\n",
       "      <td>71.0</td>\n",
       "      <td>right</td>\n",
       "      <td>medium</td>\n",
       "      <td>Aaron Galindo</td>\n",
       "      <td>182.88</td>\n",
       "      <td>198</td>\n",
       "      <td>1</td>\n",
       "      <td>23</td>\n",
       "      <td>71</td>\n",
       "    </tr>\n",
       "    <tr>\n",
       "      <th>87</th>\n",
       "      <td>17725</td>\n",
       "      <td>23780</td>\n",
       "      <td>2007-02-22 00:00:00</td>\n",
       "      <td>75.0</td>\n",
       "      <td>right</td>\n",
       "      <td>medium</td>\n",
       "      <td>Aaron Hughes</td>\n",
       "      <td>182.88</td>\n",
       "      <td>154</td>\n",
       "      <td>1</td>\n",
       "      <td>25</td>\n",
       "      <td>75</td>\n",
       "    </tr>\n",
       "  </tbody>\n",
       "</table>\n",
       "</div>"
      ],
      "text/plain": [
       "    player_fifa_api_id  player_api_id                 date  overall_rating  \\\n",
       "0               218353         505942  2007-02-22 00:00:00            61.0   \n",
       "5               189615         155782  2007-02-22 00:00:00            53.0   \n",
       "38              186170         162549  2007-02-22 00:00:00            59.0   \n",
       "64              140161          30572  2007-02-22 00:00:00            71.0   \n",
       "87               17725          23780  2007-02-22 00:00:00            75.0   \n",
       "\n",
       "   preferred_foot attacking_work_rate         player_name  height  weight  \\\n",
       "0           right              medium  Aaron Appindangoye  182.88     187   \n",
       "5           right              medium     Aaron Cresswell  170.18     146   \n",
       "38          right              medium         Aaron Doran  170.18     163   \n",
       "64          right              medium       Aaron Galindo  182.88     198   \n",
       "87          right              medium        Aaron Hughes  182.88     154   \n",
       "\n",
       "    player_row_number_asc  player_row_number_desc  first_overall_rating  \n",
       "0                       1                       5                    61  \n",
       "5                       1                      33                    53  \n",
       "38                      1                      26                    59  \n",
       "64                      1                      23                    71  \n",
       "87                      1                      25                    75  "
      ]
     },
     "execution_count": 31,
     "metadata": {},
     "output_type": "execute_result"
    }
   ],
   "source": [
    "#Selecting only the rows where player_row_number_asc is 1 to select their first overall rating\n",
    "df_players_first_overall = player.query('player_row_number_asc == 1')\n",
    "df_players_first_overall.head()"
   ]
  },
  {
   "cell_type": "code",
   "execution_count": 32,
   "metadata": {},
   "outputs": [],
   "source": [
    "#drop unnecessary columns\n",
    "df_players_first_overall = df_players_first_overall.drop(['date', 'player_row_number_asc', 'player_row_number_desc'], axis=1)"
   ]
  },
  {
   "cell_type": "code",
   "execution_count": 33,
   "metadata": {},
   "outputs": [
    {
     "data": {
      "text/html": [
       "<div>\n",
       "<style scoped>\n",
       "    .dataframe tbody tr th:only-of-type {\n",
       "        vertical-align: middle;\n",
       "    }\n",
       "\n",
       "    .dataframe tbody tr th {\n",
       "        vertical-align: top;\n",
       "    }\n",
       "\n",
       "    .dataframe thead th {\n",
       "        text-align: right;\n",
       "    }\n",
       "</style>\n",
       "<table border=\"1\" class=\"dataframe\">\n",
       "  <thead>\n",
       "    <tr style=\"text-align: right;\">\n",
       "      <th></th>\n",
       "      <th>player_api_id</th>\n",
       "      <th>overall_rating</th>\n",
       "    </tr>\n",
       "  </thead>\n",
       "  <tbody>\n",
       "    <tr>\n",
       "      <th>4</th>\n",
       "      <td>505942</td>\n",
       "      <td>67.0</td>\n",
       "    </tr>\n",
       "    <tr>\n",
       "      <th>37</th>\n",
       "      <td>155782</td>\n",
       "      <td>74.0</td>\n",
       "    </tr>\n",
       "    <tr>\n",
       "      <th>63</th>\n",
       "      <td>162549</td>\n",
       "      <td>65.0</td>\n",
       "    </tr>\n",
       "    <tr>\n",
       "      <th>86</th>\n",
       "      <td>30572</td>\n",
       "      <td>69.0</td>\n",
       "    </tr>\n",
       "    <tr>\n",
       "      <th>111</th>\n",
       "      <td>23780</td>\n",
       "      <td>70.0</td>\n",
       "    </tr>\n",
       "  </tbody>\n",
       "</table>\n",
       "</div>"
      ],
      "text/plain": [
       "     player_api_id  overall_rating\n",
       "4           505942            67.0\n",
       "37          155782            74.0\n",
       "63          162549            65.0\n",
       "86           30572            69.0\n",
       "111          23780            70.0"
      ]
     },
     "execution_count": 33,
     "metadata": {},
     "output_type": "execute_result"
    }
   ],
   "source": [
    "#Selecting only the rows where player_row_number_desc is 1 to select their last overall rating\n",
    "df_players_last_overall = player.query('player_row_number_desc == 1')[['player_api_id','overall_rating']]\n",
    "df_players_last_overall.head()"
   ]
  },
  {
   "cell_type": "code",
   "execution_count": 34,
   "metadata": {},
   "outputs": [],
   "source": [
    "#rename overall column in the last overall df\n",
    "df_players_last_overall = df_players_last_overall.rename(columns = {'overall_rating' : 'last_overall_rating'})"
   ]
  },
  {
   "cell_type": "code",
   "execution_count": 35,
   "metadata": {},
   "outputs": [
    {
     "data": {
      "text/html": [
       "<div>\n",
       "<style scoped>\n",
       "    .dataframe tbody tr th:only-of-type {\n",
       "        vertical-align: middle;\n",
       "    }\n",
       "\n",
       "    .dataframe tbody tr th {\n",
       "        vertical-align: top;\n",
       "    }\n",
       "\n",
       "    .dataframe thead th {\n",
       "        text-align: right;\n",
       "    }\n",
       "</style>\n",
       "<table border=\"1\" class=\"dataframe\">\n",
       "  <thead>\n",
       "    <tr style=\"text-align: right;\">\n",
       "      <th></th>\n",
       "      <th>player_fifa_api_id</th>\n",
       "      <th>player_api_id</th>\n",
       "      <th>overall_rating</th>\n",
       "      <th>preferred_foot</th>\n",
       "      <th>attacking_work_rate</th>\n",
       "      <th>player_name</th>\n",
       "      <th>height</th>\n",
       "      <th>weight</th>\n",
       "      <th>first_overall_rating</th>\n",
       "      <th>last_overall_rating</th>\n",
       "    </tr>\n",
       "  </thead>\n",
       "  <tbody>\n",
       "    <tr>\n",
       "      <th>0</th>\n",
       "      <td>218353</td>\n",
       "      <td>505942</td>\n",
       "      <td>61.0</td>\n",
       "      <td>right</td>\n",
       "      <td>medium</td>\n",
       "      <td>Aaron Appindangoye</td>\n",
       "      <td>182.88</td>\n",
       "      <td>187</td>\n",
       "      <td>61</td>\n",
       "      <td>67.0</td>\n",
       "    </tr>\n",
       "    <tr>\n",
       "      <th>1</th>\n",
       "      <td>189615</td>\n",
       "      <td>155782</td>\n",
       "      <td>53.0</td>\n",
       "      <td>right</td>\n",
       "      <td>medium</td>\n",
       "      <td>Aaron Cresswell</td>\n",
       "      <td>170.18</td>\n",
       "      <td>146</td>\n",
       "      <td>53</td>\n",
       "      <td>74.0</td>\n",
       "    </tr>\n",
       "    <tr>\n",
       "      <th>2</th>\n",
       "      <td>186170</td>\n",
       "      <td>162549</td>\n",
       "      <td>59.0</td>\n",
       "      <td>right</td>\n",
       "      <td>medium</td>\n",
       "      <td>Aaron Doran</td>\n",
       "      <td>170.18</td>\n",
       "      <td>163</td>\n",
       "      <td>59</td>\n",
       "      <td>65.0</td>\n",
       "    </tr>\n",
       "    <tr>\n",
       "      <th>3</th>\n",
       "      <td>140161</td>\n",
       "      <td>30572</td>\n",
       "      <td>71.0</td>\n",
       "      <td>right</td>\n",
       "      <td>medium</td>\n",
       "      <td>Aaron Galindo</td>\n",
       "      <td>182.88</td>\n",
       "      <td>198</td>\n",
       "      <td>71</td>\n",
       "      <td>69.0</td>\n",
       "    </tr>\n",
       "    <tr>\n",
       "      <th>4</th>\n",
       "      <td>17725</td>\n",
       "      <td>23780</td>\n",
       "      <td>75.0</td>\n",
       "      <td>right</td>\n",
       "      <td>medium</td>\n",
       "      <td>Aaron Hughes</td>\n",
       "      <td>182.88</td>\n",
       "      <td>154</td>\n",
       "      <td>75</td>\n",
       "      <td>70.0</td>\n",
       "    </tr>\n",
       "  </tbody>\n",
       "</table>\n",
       "</div>"
      ],
      "text/plain": [
       "   player_fifa_api_id  player_api_id  overall_rating preferred_foot  \\\n",
       "0              218353         505942            61.0          right   \n",
       "1              189615         155782            53.0          right   \n",
       "2              186170         162549            59.0          right   \n",
       "3              140161          30572            71.0          right   \n",
       "4               17725          23780            75.0          right   \n",
       "\n",
       "  attacking_work_rate         player_name  height  weight  \\\n",
       "0              medium  Aaron Appindangoye  182.88     187   \n",
       "1              medium     Aaron Cresswell  170.18     146   \n",
       "2              medium         Aaron Doran  170.18     163   \n",
       "3              medium       Aaron Galindo  182.88     198   \n",
       "4              medium        Aaron Hughes  182.88     154   \n",
       "\n",
       "   first_overall_rating  last_overall_rating  \n",
       "0                    61                 67.0  \n",
       "1                    53                 74.0  \n",
       "2                    59                 65.0  \n",
       "3                    71                 69.0  \n",
       "4                    75                 70.0  "
      ]
     },
     "execution_count": 35,
     "metadata": {},
     "output_type": "execute_result"
    }
   ],
   "source": [
    "#Merging the two dataframes in order to have a single dataframe with the first and last overall rating in the same line\n",
    "df_players = df_players_first_overall.merge(df_players_last_overall, left_on='player_api_id', right_on='player_api_id', how='inner')\n",
    "df_players.head()"
   ]
  },
  {
   "cell_type": "code",
   "execution_count": 36,
   "metadata": {},
   "outputs": [
    {
     "data": {
      "text/plain": [
       "player_fifa_api_id        int64\n",
       "player_api_id             int64\n",
       "overall_rating          float64\n",
       "preferred_foot           object\n",
       "attacking_work_rate      object\n",
       "player_name              object\n",
       "height                  float64\n",
       "weight                    int64\n",
       "first_overall_rating      int64\n",
       "last_overall_rating     float64\n",
       "dtype: object"
      ]
     },
     "execution_count": 36,
     "metadata": {},
     "output_type": "execute_result"
    }
   ],
   "source": [
    "#Exploring the data types \n",
    "df_players.dtypes"
   ]
  },
  {
   "cell_type": "code",
   "execution_count": 37,
   "metadata": {},
   "outputs": [
    {
     "data": {
      "text/plain": [
       "player_fifa_api_id        0\n",
       "player_api_id             0\n",
       "overall_rating            0\n",
       "preferred_foot            0\n",
       "attacking_work_rate     540\n",
       "player_name               0\n",
       "height                    0\n",
       "weight                    0\n",
       "first_overall_rating      0\n",
       "last_overall_rating       0\n",
       "dtype: int64"
      ]
     },
     "execution_count": 37,
     "metadata": {},
     "output_type": "execute_result"
    }
   ],
   "source": [
    "#Exploring null values\n",
    "df_players.isnull().sum()"
   ]
  },
  {
   "cell_type": "code",
   "execution_count": 38,
   "metadata": {},
   "outputs": [
    {
     "data": {
      "text/html": [
       "<div>\n",
       "<style scoped>\n",
       "    .dataframe tbody tr th:only-of-type {\n",
       "        vertical-align: middle;\n",
       "    }\n",
       "\n",
       "    .dataframe tbody tr th {\n",
       "        vertical-align: top;\n",
       "    }\n",
       "\n",
       "    .dataframe thead th {\n",
       "        text-align: right;\n",
       "    }\n",
       "</style>\n",
       "<table border=\"1\" class=\"dataframe\">\n",
       "  <thead>\n",
       "    <tr style=\"text-align: right;\">\n",
       "      <th></th>\n",
       "      <th>player_fifa_api_id</th>\n",
       "      <th>player_api_id</th>\n",
       "      <th>overall_rating</th>\n",
       "      <th>preferred_foot</th>\n",
       "      <th>player_name</th>\n",
       "      <th>height</th>\n",
       "      <th>weight</th>\n",
       "      <th>first_overall_rating</th>\n",
       "      <th>last_overall_rating</th>\n",
       "    </tr>\n",
       "  </thead>\n",
       "  <tbody>\n",
       "    <tr>\n",
       "      <th>0</th>\n",
       "      <td>218353</td>\n",
       "      <td>505942</td>\n",
       "      <td>61.0</td>\n",
       "      <td>right</td>\n",
       "      <td>Aaron Appindangoye</td>\n",
       "      <td>182.88</td>\n",
       "      <td>187</td>\n",
       "      <td>61</td>\n",
       "      <td>67.0</td>\n",
       "    </tr>\n",
       "    <tr>\n",
       "      <th>1</th>\n",
       "      <td>189615</td>\n",
       "      <td>155782</td>\n",
       "      <td>53.0</td>\n",
       "      <td>right</td>\n",
       "      <td>Aaron Cresswell</td>\n",
       "      <td>170.18</td>\n",
       "      <td>146</td>\n",
       "      <td>53</td>\n",
       "      <td>74.0</td>\n",
       "    </tr>\n",
       "    <tr>\n",
       "      <th>2</th>\n",
       "      <td>186170</td>\n",
       "      <td>162549</td>\n",
       "      <td>59.0</td>\n",
       "      <td>right</td>\n",
       "      <td>Aaron Doran</td>\n",
       "      <td>170.18</td>\n",
       "      <td>163</td>\n",
       "      <td>59</td>\n",
       "      <td>65.0</td>\n",
       "    </tr>\n",
       "    <tr>\n",
       "      <th>3</th>\n",
       "      <td>140161</td>\n",
       "      <td>30572</td>\n",
       "      <td>71.0</td>\n",
       "      <td>right</td>\n",
       "      <td>Aaron Galindo</td>\n",
       "      <td>182.88</td>\n",
       "      <td>198</td>\n",
       "      <td>71</td>\n",
       "      <td>69.0</td>\n",
       "    </tr>\n",
       "    <tr>\n",
       "      <th>4</th>\n",
       "      <td>17725</td>\n",
       "      <td>23780</td>\n",
       "      <td>75.0</td>\n",
       "      <td>right</td>\n",
       "      <td>Aaron Hughes</td>\n",
       "      <td>182.88</td>\n",
       "      <td>154</td>\n",
       "      <td>75</td>\n",
       "      <td>70.0</td>\n",
       "    </tr>\n",
       "  </tbody>\n",
       "</table>\n",
       "</div>"
      ],
      "text/plain": [
       "   player_fifa_api_id  player_api_id  overall_rating preferred_foot  \\\n",
       "0              218353         505942            61.0          right   \n",
       "1              189615         155782            53.0          right   \n",
       "2              186170         162549            59.0          right   \n",
       "3              140161          30572            71.0          right   \n",
       "4               17725          23780            75.0          right   \n",
       "\n",
       "          player_name  height  weight  first_overall_rating  \\\n",
       "0  Aaron Appindangoye  182.88     187                    61   \n",
       "1     Aaron Cresswell  170.18     146                    53   \n",
       "2         Aaron Doran  170.18     163                    59   \n",
       "3       Aaron Galindo  182.88     198                    71   \n",
       "4        Aaron Hughes  182.88     154                    75   \n",
       "\n",
       "   last_overall_rating  \n",
       "0                 67.0  \n",
       "1                 74.0  \n",
       "2                 65.0  \n",
       "3                 69.0  \n",
       "4                 70.0  "
      ]
     },
     "execution_count": 38,
     "metadata": {},
     "output_type": "execute_result"
    }
   ],
   "source": [
    "#Dropping the attacking work rate as it has null values and we won't use it on the analysis\n",
    "df_players.drop('attacking_work_rate', axis=1, inplace=True)\n",
    "df_players.head()"
   ]
  },
  {
   "cell_type": "code",
   "execution_count": 39,
   "metadata": {},
   "outputs": [
    {
     "data": {
      "text/plain": [
       "player_fifa_api_id      0\n",
       "player_api_id           0\n",
       "overall_rating          0\n",
       "preferred_foot          0\n",
       "player_name             0\n",
       "height                  0\n",
       "weight                  0\n",
       "first_overall_rating    0\n",
       "last_overall_rating     0\n",
       "dtype: int64"
      ]
     },
     "execution_count": 39,
     "metadata": {},
     "output_type": "execute_result"
    }
   ],
   "source": [
    "#Checking we don't have any null values\n",
    "df_players.isnull().sum()"
   ]
  },
  {
   "cell_type": "markdown",
   "metadata": {},
   "source": [
    "<a id='eda'></a>\n",
    "## Exploratory Data Analysis\n",
    "\n",
    "### Which league has the highest average number of goals per match?"
   ]
  },
  {
   "cell_type": "code",
   "execution_count": 40,
   "metadata": {},
   "outputs": [
    {
     "data": {
      "text/plain": [
       "league_name\n",
       "Netherlands Eredivisie      3.080882\n",
       "Switzerland Super League    2.925849\n",
       "Germany 1. Bundesliga       2.901552\n",
       "Spain LIGA BBVA             2.767105\n",
       "Belgium Jupiler League      2.764220\n",
       "England Premier League      2.710526\n",
       "Scotland Premier League     2.633772\n",
       "Italy Serie A               2.616622\n",
       "Portugal Liga ZON Sagres    2.529790\n",
       "France Ligue 1              2.443092\n",
       "Poland Ekstraklasa          2.425000\n",
       "Name: average_total_goals, dtype: float64"
      ]
     },
     "execution_count": 40,
     "metadata": {},
     "output_type": "execute_result"
    }
   ],
   "source": [
    "#Explore the average number of goals by league name\n",
    "goals_country.groupby('league_name')['average_total_goals'].mean().sort_values(ascending=False)"
   ]
  },
  {
   "cell_type": "markdown",
   "metadata": {},
   "source": [
    "The Netherlands Eredivisie is the league with the highest average number of goals per match with an avarege of 3.08. And the Poland Ekstraklasa is the league with the lowest average number of goals per match (2.43). Now we'll explore how these two leagues average goals per match changed over time:"
   ]
  },
  {
   "cell_type": "code",
   "execution_count": 41,
   "metadata": {},
   "outputs": [
    {
     "data": {
      "text/plain": [
       "season     league_name           \n",
       "2008/2009  Belgium Jupiler League    2.794118\n",
       "           England Premier League    2.478947\n",
       "           France Ligue 1            2.257895\n",
       "           Germany 1. Bundesliga     2.921569\n",
       "           Italy Serie A             2.600000\n",
       "Name: average_total_goals, dtype: float64"
      ]
     },
     "execution_count": 41,
     "metadata": {},
     "output_type": "execute_result"
    }
   ],
   "source": [
    "#Grouping the dataframe by season and league to see evolution over time\n",
    "goals_league_season = goals_country.groupby(['season','league_name'])['average_total_goals'].mean()\n",
    "goals_league_season.head()"
   ]
  },
  {
   "cell_type": "code",
   "execution_count": 42,
   "metadata": {},
   "outputs": [],
   "source": [
    "#Create subsets of for the Netherlands and Poland average goals per match by season\n",
    "netherlands_goals_season = goals_league_season.loc[:, 'Netherlands Eredivisie']\n",
    "poland_goals_season = goals_league_season.loc[:, 'Poland Ekstraklasa']"
   ]
  },
  {
   "cell_type": "code",
   "execution_count": 43,
   "metadata": {},
   "outputs": [
    {
     "data": {
      "image/png": "[encoded data removed]",
      "text/plain": [
       "<Figure size 1008x576 with 1 Axes>"
      ]
     },
     "metadata": {
      "needs_background": "light"
     },
     "output_type": "display_data"
    }
   ],
   "source": [
    "#Plotting the evolution of average goals for the Netherlands and Poland\n",
    "plt.figure(figsize=(14, 8))\n",
    "plt.plot(netherlands_goals_season, label='Netherlands', color='blue')\n",
    "plt.plot(poland_goals_season, label='Poland', color='red')\n",
    "plt.legend(title='Country', fontsize=12)\n",
    "plt.ylabel('Avarege Goals per Match', fontsize=12, weight='bold')\n",
    "plt.xlabel('Season', fontsize=12, weight='bold')\n",
    "plt.title('Evolution of Average Goals per Match for Selected Countries', fontsize=14, weight='bold');"
   ]
  },
  {
   "cell_type": "markdown",
   "metadata": {},
   "source": [
    "We can see that the Netherlands always had a greater average of goals per match than Poland. We can also see that since the 2011/2012 season, the Polish league had an increase on its avarege number of goals per match, reaching more than 2.6 goals per match in the 2015/2016 season."
   ]
  },
  {
   "cell_type": "markdown",
   "metadata": {},
   "source": [
    "### Is there a home team advantage? That's it, do teams that play at home win more games?"
   ]
  },
  {
   "cell_type": "code",
   "execution_count": 44,
   "metadata": {},
   "outputs": [
    {
     "data": {
      "text/html": [
       "<div>\n",
       "<style scoped>\n",
       "    .dataframe tbody tr th:only-of-type {\n",
       "        vertical-align: middle;\n",
       "    }\n",
       "\n",
       "    .dataframe tbody tr th {\n",
       "        vertical-align: top;\n",
       "    }\n",
       "\n",
       "    .dataframe thead th {\n",
       "        text-align: right;\n",
       "    }\n",
       "</style>\n",
       "<table border=\"1\" class=\"dataframe\">\n",
       "  <thead>\n",
       "    <tr style=\"text-align: right;\">\n",
       "      <th></th>\n",
       "      <th>country_name</th>\n",
       "      <th>league_name</th>\n",
       "      <th>season</th>\n",
       "      <th>date</th>\n",
       "      <th>home_team_goal</th>\n",
       "      <th>away_team_goal</th>\n",
       "      <th>winner_team_api_id</th>\n",
       "      <th>match_result</th>\n",
       "    </tr>\n",
       "  </thead>\n",
       "  <tbody>\n",
       "    <tr>\n",
       "      <th>0</th>\n",
       "      <td>Belgium</td>\n",
       "      <td>Belgium Jupiler League</td>\n",
       "      <td>2008/2009</td>\n",
       "      <td>2008-08-17 00:00:00</td>\n",
       "      <td>1</td>\n",
       "      <td>1</td>\n",
       "      <td>NaN</td>\n",
       "      <td>Draw</td>\n",
       "    </tr>\n",
       "    <tr>\n",
       "      <th>1</th>\n",
       "      <td>Belgium</td>\n",
       "      <td>Belgium Jupiler League</td>\n",
       "      <td>2008/2009</td>\n",
       "      <td>2008-08-16 00:00:00</td>\n",
       "      <td>0</td>\n",
       "      <td>0</td>\n",
       "      <td>NaN</td>\n",
       "      <td>Draw</td>\n",
       "    </tr>\n",
       "    <tr>\n",
       "      <th>2</th>\n",
       "      <td>Belgium</td>\n",
       "      <td>Belgium Jupiler League</td>\n",
       "      <td>2008/2009</td>\n",
       "      <td>2008-08-16 00:00:00</td>\n",
       "      <td>0</td>\n",
       "      <td>3</td>\n",
       "      <td>8635.0</td>\n",
       "      <td>Away Team Win</td>\n",
       "    </tr>\n",
       "    <tr>\n",
       "      <th>3</th>\n",
       "      <td>Belgium</td>\n",
       "      <td>Belgium Jupiler League</td>\n",
       "      <td>2008/2009</td>\n",
       "      <td>2008-08-17 00:00:00</td>\n",
       "      <td>5</td>\n",
       "      <td>0</td>\n",
       "      <td>9991.0</td>\n",
       "      <td>Home Team Win</td>\n",
       "    </tr>\n",
       "    <tr>\n",
       "      <th>4</th>\n",
       "      <td>Belgium</td>\n",
       "      <td>Belgium Jupiler League</td>\n",
       "      <td>2008/2009</td>\n",
       "      <td>2008-08-16 00:00:00</td>\n",
       "      <td>1</td>\n",
       "      <td>3</td>\n",
       "      <td>9985.0</td>\n",
       "      <td>Away Team Win</td>\n",
       "    </tr>\n",
       "  </tbody>\n",
       "</table>\n",
       "</div>"
      ],
      "text/plain": [
       "  country_name             league_name     season                 date  \\\n",
       "0      Belgium  Belgium Jupiler League  2008/2009  2008-08-17 00:00:00   \n",
       "1      Belgium  Belgium Jupiler League  2008/2009  2008-08-16 00:00:00   \n",
       "2      Belgium  Belgium Jupiler League  2008/2009  2008-08-16 00:00:00   \n",
       "3      Belgium  Belgium Jupiler League  2008/2009  2008-08-17 00:00:00   \n",
       "4      Belgium  Belgium Jupiler League  2008/2009  2008-08-16 00:00:00   \n",
       "\n",
       "   home_team_goal  away_team_goal  winner_team_api_id   match_result  \n",
       "0               1               1                 NaN           Draw  \n",
       "1               0               0                 NaN           Draw  \n",
       "2               0               3              8635.0  Away Team Win  \n",
       "3               5               0              9991.0  Home Team Win  \n",
       "4               1               3              9985.0  Away Team Win  "
      ]
     },
     "execution_count": 44,
     "metadata": {},
     "output_type": "execute_result"
    }
   ],
   "source": [
    "#Exploring the match_result DataFrame\n",
    "match_result.head()"
   ]
  },
  {
   "cell_type": "code",
   "execution_count": 45,
   "metadata": {},
   "outputs": [
    {
     "data": {
      "text/plain": [
       "Home Team Win    11917\n",
       "Away Team Win     7466\n",
       "Draw              6596\n",
       "Name: match_result, dtype: int64"
      ]
     },
     "execution_count": 45,
     "metadata": {},
     "output_type": "execute_result"
    }
   ],
   "source": [
    "#Count of results\n",
    "match_result['match_result'].value_counts()"
   ]
  },
  {
   "cell_type": "code",
   "execution_count": 46,
   "metadata": {},
   "outputs": [
    {
     "data": {
      "text/plain": [
       "Home Team Win    0.458717\n",
       "Away Team Win    0.287386\n",
       "Draw             0.253897\n",
       "Name: match_result, dtype: float64"
      ]
     },
     "execution_count": 46,
     "metadata": {},
     "output_type": "execute_result"
    }
   ],
   "source": [
    "#Percentage of each result\n",
    "percentage_results = match_result['match_result'].value_counts()/len(match_result)\n",
    "percentage_results"
   ]
  },
  {
   "cell_type": "code",
   "execution_count": 47,
   "metadata": {},
   "outputs": [
    {
     "data": {
      "image/png": "[encoded data removed]",
      "text/plain": [
       "<Figure size 1008x576 with 1 Axes>"
      ]
     },
     "metadata": {
      "needs_background": "light"
     },
     "output_type": "display_data"
    }
   ],
   "source": [
    "#Plotting the percentages\n",
    "percentage_results.plot(kind='bar', figsize=(14, 8), rot=0, fontsize=12)\n",
    "plt.title('Percentage of each result', fontsize=14, weight='bold')\n",
    "plt.xlabel('Result', fontsize=12, weight='bold')\n",
    "plt.ylabel('Percentage', fontsize=12, weight='bold');"
   ]
  },
  {
   "cell_type": "markdown",
   "metadata": {},
   "source": [
    "We can see that there is a home team advantage as the Home Team wins 46% of the matches, while the Away Team only wins 29% of the matches."
   ]
  },
  {
   "cell_type": "code",
   "execution_count": 48,
   "metadata": {},
   "outputs": [
    {
     "data": {
      "text/html": [
       "<div>\n",
       "<style scoped>\n",
       "    .dataframe tbody tr th:only-of-type {\n",
       "        vertical-align: middle;\n",
       "    }\n",
       "\n",
       "    .dataframe tbody tr th {\n",
       "        vertical-align: top;\n",
       "    }\n",
       "\n",
       "    .dataframe thead th {\n",
       "        text-align: right;\n",
       "    }\n",
       "</style>\n",
       "<table border=\"1\" class=\"dataframe\">\n",
       "  <thead>\n",
       "    <tr style=\"text-align: right;\">\n",
       "      <th></th>\n",
       "      <th>country_name</th>\n",
       "      <th>league_name</th>\n",
       "      <th>season</th>\n",
       "      <th>date</th>\n",
       "      <th>home_team_goal</th>\n",
       "      <th>away_team_goal</th>\n",
       "      <th>winner_team_api_id</th>\n",
       "      <th>match_result</th>\n",
       "    </tr>\n",
       "  </thead>\n",
       "  <tbody>\n",
       "    <tr>\n",
       "      <th>3</th>\n",
       "      <td>Belgium</td>\n",
       "      <td>Belgium Jupiler League</td>\n",
       "      <td>2008/2009</td>\n",
       "      <td>2008-08-17 00:00:00</td>\n",
       "      <td>5</td>\n",
       "      <td>0</td>\n",
       "      <td>9991.0</td>\n",
       "      <td>Home Team Win</td>\n",
       "    </tr>\n",
       "    <tr>\n",
       "      <th>8</th>\n",
       "      <td>Belgium</td>\n",
       "      <td>Belgium Jupiler League</td>\n",
       "      <td>2008/2009</td>\n",
       "      <td>2008-08-16 00:00:00</td>\n",
       "      <td>1</td>\n",
       "      <td>0</td>\n",
       "      <td>10001.0</td>\n",
       "      <td>Home Team Win</td>\n",
       "    </tr>\n",
       "    <tr>\n",
       "      <th>9</th>\n",
       "      <td>Belgium</td>\n",
       "      <td>Belgium Jupiler League</td>\n",
       "      <td>2008/2009</td>\n",
       "      <td>2008-11-01 00:00:00</td>\n",
       "      <td>4</td>\n",
       "      <td>1</td>\n",
       "      <td>8342.0</td>\n",
       "      <td>Home Team Win</td>\n",
       "    </tr>\n",
       "    <tr>\n",
       "      <th>21</th>\n",
       "      <td>Belgium</td>\n",
       "      <td>Belgium Jupiler League</td>\n",
       "      <td>2008/2009</td>\n",
       "      <td>2008-11-07 00:00:00</td>\n",
       "      <td>2</td>\n",
       "      <td>0</td>\n",
       "      <td>9984.0</td>\n",
       "      <td>Home Team Win</td>\n",
       "    </tr>\n",
       "    <tr>\n",
       "      <th>25</th>\n",
       "      <td>Belgium</td>\n",
       "      <td>Belgium Jupiler League</td>\n",
       "      <td>2008/2009</td>\n",
       "      <td>2008-11-08 00:00:00</td>\n",
       "      <td>1</td>\n",
       "      <td>0</td>\n",
       "      <td>10001.0</td>\n",
       "      <td>Home Team Win</td>\n",
       "    </tr>\n",
       "  </tbody>\n",
       "</table>\n",
       "</div>"
      ],
      "text/plain": [
       "   country_name             league_name     season                 date  \\\n",
       "3       Belgium  Belgium Jupiler League  2008/2009  2008-08-17 00:00:00   \n",
       "8       Belgium  Belgium Jupiler League  2008/2009  2008-08-16 00:00:00   \n",
       "9       Belgium  Belgium Jupiler League  2008/2009  2008-11-01 00:00:00   \n",
       "21      Belgium  Belgium Jupiler League  2008/2009  2008-11-07 00:00:00   \n",
       "25      Belgium  Belgium Jupiler League  2008/2009  2008-11-08 00:00:00   \n",
       "\n",
       "    home_team_goal  away_team_goal  winner_team_api_id   match_result  \n",
       "3                5               0              9991.0  Home Team Win  \n",
       "8                1               0             10001.0  Home Team Win  \n",
       "9                4               1              8342.0  Home Team Win  \n",
       "21               2               0              9984.0  Home Team Win  \n",
       "25               1               0             10001.0  Home Team Win  "
      ]
     },
     "execution_count": 48,
     "metadata": {},
     "output_type": "execute_result"
    }
   ],
   "source": [
    "#get home team wins \n",
    "home_team_wins = match_result.query('match_result == \"Home Team Win\"')\n",
    "home_team_wins.head()"
   ]
  },
  {
   "cell_type": "code",
   "execution_count": 49,
   "metadata": {},
   "outputs": [
    {
     "data": {
      "text/plain": [
       "country_name\n",
       "Belgium         810\n",
       "England        1390\n",
       "France         1359\n",
       "Germany        1107\n",
       "Italy          1407\n",
       "Netherlands    1171\n",
       "Poland          870\n",
       "Portugal        908\n",
       "Scotland        760\n",
       "Spain          1485\n",
       "Switzerland     650\n",
       "Name: match_result, dtype: int64"
      ]
     },
     "execution_count": 49,
     "metadata": {},
     "output_type": "execute_result"
    }
   ],
   "source": [
    "home_team_wins_by_country = home_team_wins.groupby('country_name').count()['match_result']\n",
    "home_team_wins_by_country"
   ]
  },
  {
   "cell_type": "code",
   "execution_count": 50,
   "metadata": {},
   "outputs": [
    {
     "data": {
      "text/plain": [
       "country_name\n",
       "Belgium        1728\n",
       "England        3040\n",
       "France         3040\n",
       "Germany        2448\n",
       "Italy          3017\n",
       "Netherlands    2448\n",
       "Poland         1920\n",
       "Portugal       2052\n",
       "Scotland       1824\n",
       "Spain          3040\n",
       "Switzerland    1422\n",
       "Name: league_name, dtype: int64"
      ]
     },
     "execution_count": 50,
     "metadata": {},
     "output_type": "execute_result"
    }
   ],
   "source": [
    "#get total number of games per country\n",
    "games_by_country = match_result.groupby('country_name').count()['league_name']\n",
    "games_by_country"
   ]
  },
  {
   "cell_type": "code",
   "execution_count": 51,
   "metadata": {},
   "outputs": [
    {
     "data": {
      "text/plain": [
       "country_name\n",
       "Scotland       0.416667\n",
       "Portugal       0.442495\n",
       "France         0.447039\n",
       "Germany        0.452206\n",
       "Poland         0.453125\n",
       "Switzerland    0.457103\n",
       "England        0.457237\n",
       "Italy          0.466357\n",
       "Belgium        0.468750\n",
       "Netherlands    0.478350\n",
       "Spain          0.488487\n",
       "dtype: float64"
      ]
     },
     "execution_count": 51,
     "metadata": {},
     "output_type": "execute_result"
    }
   ],
   "source": [
    "#proportion of each result per country\n",
    "proportion_results_by_country = home_team_wins_by_country/games_by_country\n",
    "proportion_results_by_country.sort_values()"
   ]
  },
  {
   "cell_type": "code",
   "execution_count": 52,
   "metadata": {},
   "outputs": [
    {
     "data": {
      "image/png": "[encoded data removed]",
      "text/plain": [
       "<Figure size 1008x576 with 1 Axes>"
      ]
     },
     "metadata": {
      "needs_background": "light"
     },
     "output_type": "display_data"
    }
   ],
   "source": [
    "#visualization of home team wins by country\n",
    "fig = proportion_results_by_country.sort_values().plot(kind='bar', figsize=(14, 8), rot=0, fontsize=12)\n",
    "plt.title('Home Team Percentage Victory by Country', fontsize=14, weight='bold')\n",
    "plt.xlabel('Country Name', fontsize=12, weight='bold')\n",
    "plt.ylabel('Home Team Percentage Victory', fontsize=12, weight='bold')\n",
    "fig.bar_label(fig.containers[0], label_type='edge');\n"
   ]
  },
  {
   "cell_type": "markdown",
   "metadata": {},
   "source": [
    "Spain is the country with the highest home team advantage, 49% of the matches in the country had the home team as the winner. Meanwhile, Scotland was the country with the lowest home team advantage, only 42% of the matches had the home team as the winner. We can also see that the home team advatange exists in all countries, althought its magnitude can change a few percentage points for each country."
   ]
  },
  {
   "cell_type": "markdown",
   "metadata": {},
   "source": [
    "### Which players improved their overall rating the most during the period?"
   ]
  },
  {
   "cell_type": "code",
   "execution_count": 53,
   "metadata": {},
   "outputs": [
    {
     "data": {
      "text/html": [
       "<div>\n",
       "<style scoped>\n",
       "    .dataframe tbody tr th:only-of-type {\n",
       "        vertical-align: middle;\n",
       "    }\n",
       "\n",
       "    .dataframe tbody tr th {\n",
       "        vertical-align: top;\n",
       "    }\n",
       "\n",
       "    .dataframe thead th {\n",
       "        text-align: right;\n",
       "    }\n",
       "</style>\n",
       "<table border=\"1\" class=\"dataframe\">\n",
       "  <thead>\n",
       "    <tr style=\"text-align: right;\">\n",
       "      <th></th>\n",
       "      <th>player_fifa_api_id</th>\n",
       "      <th>player_api_id</th>\n",
       "      <th>overall_rating</th>\n",
       "      <th>preferred_foot</th>\n",
       "      <th>player_name</th>\n",
       "      <th>height</th>\n",
       "      <th>weight</th>\n",
       "      <th>first_overall_rating</th>\n",
       "      <th>last_overall_rating</th>\n",
       "    </tr>\n",
       "  </thead>\n",
       "  <tbody>\n",
       "    <tr>\n",
       "      <th>0</th>\n",
       "      <td>218353</td>\n",
       "      <td>505942</td>\n",
       "      <td>61.0</td>\n",
       "      <td>right</td>\n",
       "      <td>Aaron Appindangoye</td>\n",
       "      <td>182.88</td>\n",
       "      <td>187</td>\n",
       "      <td>61</td>\n",
       "      <td>67.0</td>\n",
       "    </tr>\n",
       "    <tr>\n",
       "      <th>1</th>\n",
       "      <td>189615</td>\n",
       "      <td>155782</td>\n",
       "      <td>53.0</td>\n",
       "      <td>right</td>\n",
       "      <td>Aaron Cresswell</td>\n",
       "      <td>170.18</td>\n",
       "      <td>146</td>\n",
       "      <td>53</td>\n",
       "      <td>74.0</td>\n",
       "    </tr>\n",
       "    <tr>\n",
       "      <th>2</th>\n",
       "      <td>186170</td>\n",
       "      <td>162549</td>\n",
       "      <td>59.0</td>\n",
       "      <td>right</td>\n",
       "      <td>Aaron Doran</td>\n",
       "      <td>170.18</td>\n",
       "      <td>163</td>\n",
       "      <td>59</td>\n",
       "      <td>65.0</td>\n",
       "    </tr>\n",
       "    <tr>\n",
       "      <th>3</th>\n",
       "      <td>140161</td>\n",
       "      <td>30572</td>\n",
       "      <td>71.0</td>\n",
       "      <td>right</td>\n",
       "      <td>Aaron Galindo</td>\n",
       "      <td>182.88</td>\n",
       "      <td>198</td>\n",
       "      <td>71</td>\n",
       "      <td>69.0</td>\n",
       "    </tr>\n",
       "    <tr>\n",
       "      <th>4</th>\n",
       "      <td>17725</td>\n",
       "      <td>23780</td>\n",
       "      <td>75.0</td>\n",
       "      <td>right</td>\n",
       "      <td>Aaron Hughes</td>\n",
       "      <td>182.88</td>\n",
       "      <td>154</td>\n",
       "      <td>75</td>\n",
       "      <td>70.0</td>\n",
       "    </tr>\n",
       "  </tbody>\n",
       "</table>\n",
       "</div>"
      ],
      "text/plain": [
       "   player_fifa_api_id  player_api_id  overall_rating preferred_foot  \\\n",
       "0              218353         505942            61.0          right   \n",
       "1              189615         155782            53.0          right   \n",
       "2              186170         162549            59.0          right   \n",
       "3              140161          30572            71.0          right   \n",
       "4               17725          23780            75.0          right   \n",
       "\n",
       "          player_name  height  weight  first_overall_rating  \\\n",
       "0  Aaron Appindangoye  182.88     187                    61   \n",
       "1     Aaron Cresswell  170.18     146                    53   \n",
       "2         Aaron Doran  170.18     163                    59   \n",
       "3       Aaron Galindo  182.88     198                    71   \n",
       "4        Aaron Hughes  182.88     154                    75   \n",
       "\n",
       "   last_overall_rating  \n",
       "0                 67.0  \n",
       "1                 74.0  \n",
       "2                 65.0  \n",
       "3                 69.0  \n",
       "4                 70.0  "
      ]
     },
     "execution_count": 53,
     "metadata": {},
     "output_type": "execute_result"
    }
   ],
   "source": [
    "#Exploring the players df\n",
    "df_players.head()"
   ]
  },
  {
   "cell_type": "code",
   "execution_count": 54,
   "metadata": {},
   "outputs": [],
   "source": [
    "#Creating overall improvement columns\n",
    "df_players['overall_rating_improvement'] = df_players['last_overall_rating'] - df_players['first_overall_rating']"
   ]
  },
  {
   "cell_type": "code",
   "execution_count": 55,
   "metadata": {},
   "outputs": [],
   "source": [
    "#Creating a function to plot histograms\n",
    "def myHistPlot (df, xVar, interval, units=10, figsize=[14, 8]):\n",
    "    '''\n",
    "    This function will create a formatted histogram plot for a specific variable \n",
    "    '''\n",
    "    \n",
    "    #set the intervals for the bins\n",
    "    #units use floor division to ensure intervals start at a rounded value\n",
    "    bins=np.arange((df[xVar].min()//units)*units,df[xVar].max()+interval,interval)\n",
    "    #plot\n",
    "    df[xVar].hist(bins=bins,\n",
    "                  grid=False,\n",
    "                  edgecolor='black',\n",
    "                  figsize=figsize);\n",
    "    #for labels add a space instead of a underscore\n",
    "    xVar = xVar.replace(\"_\", \" \")\n",
    "    #Add title and format it\n",
    "    plt.title(f'Distribution of {xVar}'.title(), fontsize=14, weight='bold')\n",
    "    #Add xlabel and format it\n",
    "    plt.xlabel(xVar.title(), fontsize=12, weight='bold')\n",
    "    #Add ylabel and format it\n",
    "    plt.ylabel('Frequency'.title(), fontsize=12, weight='bold')"
   ]
  },
  {
   "cell_type": "code",
   "execution_count": 56,
   "metadata": {},
   "outputs": [
    {
     "data": {
      "image/png": "[encoded data removed]",
      "text/plain": [
       "<Figure size 1008x576 with 1 Axes>"
      ]
     },
     "metadata": {
      "needs_background": "light"
     },
     "output_type": "display_data"
    }
   ],
   "source": [
    "#Checking the improvement distribution using the new function\n",
    "myHistPlot(df_players, 'overall_rating_improvement', 5)"
   ]
  },
  {
   "cell_type": "code",
   "execution_count": 57,
   "metadata": {},
   "outputs": [
    {
     "data": {
      "text/plain": [
       "count    11060.000000\n",
       "mean         4.892767\n",
       "std          8.369609\n",
       "min        -25.000000\n",
       "25%          0.000000\n",
       "50%          4.000000\n",
       "75%         10.000000\n",
       "max         42.000000\n",
       "Name: overall_rating_improvement, dtype: float64"
      ]
     },
     "execution_count": 57,
     "metadata": {},
     "output_type": "execute_result"
    }
   ],
   "source": [
    "#Summary statistics for the overall rating improvement column\n",
    "df_players.overall_rating_improvement.describe()"
   ]
  },
  {
   "cell_type": "code",
   "execution_count": 58,
   "metadata": {},
   "outputs": [
    {
     "data": {
      "text/html": [
       "<div>\n",
       "<style scoped>\n",
       "    .dataframe tbody tr th:only-of-type {\n",
       "        vertical-align: middle;\n",
       "    }\n",
       "\n",
       "    .dataframe tbody tr th {\n",
       "        vertical-align: top;\n",
       "    }\n",
       "\n",
       "    .dataframe thead th {\n",
       "        text-align: right;\n",
       "    }\n",
       "</style>\n",
       "<table border=\"1\" class=\"dataframe\">\n",
       "  <thead>\n",
       "    <tr style=\"text-align: right;\">\n",
       "      <th></th>\n",
       "      <th>player_name</th>\n",
       "      <th>overall_rating_improvement</th>\n",
       "    </tr>\n",
       "  </thead>\n",
       "  <tbody>\n",
       "    <tr>\n",
       "      <th>6713</th>\n",
       "      <td>Marco Reus</td>\n",
       "      <td>42.0</td>\n",
       "    </tr>\n",
       "  </tbody>\n",
       "</table>\n",
       "</div>"
      ],
      "text/plain": [
       "     player_name  overall_rating_improvement\n",
       "6713  Marco Reus                        42.0"
      ]
     },
     "execution_count": 58,
     "metadata": {},
     "output_type": "execute_result"
    }
   ],
   "source": [
    "#Finding the player with the greatest improvement\n",
    "df_players[df_players['overall_rating_improvement'] == 42][['player_name','overall_rating_improvement']]"
   ]
  },
  {
   "cell_type": "markdown",
   "metadata": {},
   "source": [
    "Marco Reus was the player that improved the most during the period analyzed, his overall rating improved by 42 points. We'll also explore which were the top 10 players by overall rating improvement:"
   ]
  },
  {
   "cell_type": "code",
   "execution_count": 59,
   "metadata": {},
   "outputs": [
    {
     "data": {
      "text/html": [
       "<div>\n",
       "<style scoped>\n",
       "    .dataframe tbody tr th:only-of-type {\n",
       "        vertical-align: middle;\n",
       "    }\n",
       "\n",
       "    .dataframe tbody tr th {\n",
       "        vertical-align: top;\n",
       "    }\n",
       "\n",
       "    .dataframe thead th {\n",
       "        text-align: right;\n",
       "    }\n",
       "</style>\n",
       "<table border=\"1\" class=\"dataframe\">\n",
       "  <thead>\n",
       "    <tr style=\"text-align: right;\">\n",
       "      <th></th>\n",
       "      <th>player_name</th>\n",
       "      <th>overall_rating_improvement</th>\n",
       "    </tr>\n",
       "  </thead>\n",
       "  <tbody>\n",
       "    <tr>\n",
       "      <th>6713</th>\n",
       "      <td>Marco Reus</td>\n",
       "      <td>42.0</td>\n",
       "    </tr>\n",
       "    <tr>\n",
       "      <th>8189</th>\n",
       "      <td>Oscar de Marcos</td>\n",
       "      <td>37.0</td>\n",
       "    </tr>\n",
       "    <tr>\n",
       "      <th>8694</th>\n",
       "      <td>Radja Nainggolan</td>\n",
       "      <td>37.0</td>\n",
       "    </tr>\n",
       "    <tr>\n",
       "      <th>2833</th>\n",
       "      <td>Eden Hazard</td>\n",
       "      <td>37.0</td>\n",
       "    </tr>\n",
       "    <tr>\n",
       "      <th>8918</th>\n",
       "      <td>Ricardo Rodriguez</td>\n",
       "      <td>37.0</td>\n",
       "    </tr>\n",
       "    <tr>\n",
       "      <th>1083</th>\n",
       "      <td>Bakary Sako</td>\n",
       "      <td>37.0</td>\n",
       "    </tr>\n",
       "    <tr>\n",
       "      <th>5954</th>\n",
       "      <td>Lamine Kone</td>\n",
       "      <td>36.0</td>\n",
       "    </tr>\n",
       "    <tr>\n",
       "      <th>3458</th>\n",
       "      <td>Francesco Della Rocca</td>\n",
       "      <td>36.0</td>\n",
       "    </tr>\n",
       "    <tr>\n",
       "      <th>6086</th>\n",
       "      <td>Leonardo Bonucci</td>\n",
       "      <td>36.0</td>\n",
       "    </tr>\n",
       "    <tr>\n",
       "      <th>3903</th>\n",
       "      <td>Glenn Murray</td>\n",
       "      <td>36.0</td>\n",
       "    </tr>\n",
       "  </tbody>\n",
       "</table>\n",
       "</div>"
      ],
      "text/plain": [
       "                player_name  overall_rating_improvement\n",
       "6713             Marco Reus                        42.0\n",
       "8189        Oscar de Marcos                        37.0\n",
       "8694       Radja Nainggolan                        37.0\n",
       "2833            Eden Hazard                        37.0\n",
       "8918      Ricardo Rodriguez                        37.0\n",
       "1083            Bakary Sako                        37.0\n",
       "5954            Lamine Kone                        36.0\n",
       "3458  Francesco Della Rocca                        36.0\n",
       "6086       Leonardo Bonucci                        36.0\n",
       "3903           Glenn Murray                        36.0"
      ]
     },
     "execution_count": 59,
     "metadata": {},
     "output_type": "execute_result"
    }
   ],
   "source": [
    "#Selecting the 10 players that improved the most\n",
    "df_players[['player_name','overall_rating_improvement']].sort_values('overall_rating_improvement', ascending=False).head(10)"
   ]
  },
  {
   "cell_type": "markdown",
   "metadata": {},
   "source": [
    "### Is there a correlation between a player's height and his overall rating?"
   ]
  },
  {
   "cell_type": "code",
   "execution_count": 60,
   "metadata": {},
   "outputs": [
    {
     "data": {
      "text/plain": [
       "Text(0, 0.5, 'Overall Rating')"
      ]
     },
     "execution_count": 60,
     "metadata": {},
     "output_type": "execute_result"
    },
    {
     "data": {
      "image/png": "[encoded data removed]",
      "text/plain": [
       "<Figure size 1008x576 with 1 Axes>"
      ]
     },
     "metadata": {
      "needs_background": "light"
     },
     "output_type": "display_data"
    }
   ],
   "source": [
    "#Set plot dimension\n",
    "plt.figure(figsize=[14, 8])\n",
    "\n",
    "#Ploting the scatter plot of height and overall rating\n",
    "sns.stripplot(data=df_players, x='height', y='last_overall_rating', jitter=0.35, color='steelblue', size=4)\n",
    "plt.title('Height vs Overall Rating Relationship', fontsize=14, weight='bold')\n",
    "plt.xlabel('Height', fontsize=12, weight='bold')\n",
    "plt.ylabel('Overall Rating', fontsize=12, weight='bold')"
   ]
  },
  {
   "cell_type": "code",
   "execution_count": 61,
   "metadata": {},
   "outputs": [
    {
     "data": {
      "text/plain": [
       "0.014232305943372365"
      ]
     },
     "execution_count": 61,
     "metadata": {},
     "output_type": "execute_result"
    }
   ],
   "source": [
    "#Calculation the correlation between the player's height and his overall rating\n",
    "df_players['height'].corr(df_players['last_overall_rating'])"
   ]
  },
  {
   "cell_type": "markdown",
   "metadata": {},
   "source": [
    "Looking at the scatter plot graph it doesn't look like there is any clear relationship between the player's height and his overall rating.\n",
    "Calculation the correlation between these two variables confirms that there is no strong correlation betweem them, as the correlation was smaller thant 0.02"
   ]
  },
  {
   "cell_type": "markdown",
   "metadata": {},
   "source": [
    "### Do players with a specific preferred foot have a higher overall rating?"
   ]
  },
  {
   "cell_type": "code",
   "execution_count": 62,
   "metadata": {},
   "outputs": [
    {
     "data": {
      "text/html": [
       "<div>\n",
       "<style scoped>\n",
       "    .dataframe tbody tr th:only-of-type {\n",
       "        vertical-align: middle;\n",
       "    }\n",
       "\n",
       "    .dataframe tbody tr th {\n",
       "        vertical-align: top;\n",
       "    }\n",
       "\n",
       "    .dataframe thead th {\n",
       "        text-align: right;\n",
       "    }\n",
       "</style>\n",
       "<table border=\"1\" class=\"dataframe\">\n",
       "  <thead>\n",
       "    <tr style=\"text-align: right;\">\n",
       "      <th></th>\n",
       "      <th>player_fifa_api_id</th>\n",
       "      <th>player_api_id</th>\n",
       "      <th>overall_rating</th>\n",
       "      <th>preferred_foot</th>\n",
       "      <th>player_name</th>\n",
       "      <th>height</th>\n",
       "      <th>weight</th>\n",
       "      <th>first_overall_rating</th>\n",
       "      <th>last_overall_rating</th>\n",
       "      <th>overall_rating_improvement</th>\n",
       "    </tr>\n",
       "  </thead>\n",
       "  <tbody>\n",
       "    <tr>\n",
       "      <th>5</th>\n",
       "      <td>158138</td>\n",
       "      <td>27316</td>\n",
       "      <td>73.0</td>\n",
       "      <td>left</td>\n",
       "      <td>Aaron Hunt</td>\n",
       "      <td>182.88</td>\n",
       "      <td>161</td>\n",
       "      <td>73</td>\n",
       "      <td>77.0</td>\n",
       "      <td>4.0</td>\n",
       "    </tr>\n",
       "    <tr>\n",
       "      <th>13</th>\n",
       "      <td>183853</td>\n",
       "      <td>40719</td>\n",
       "      <td>59.0</td>\n",
       "      <td>left</td>\n",
       "      <td>Aaron Niguez</td>\n",
       "      <td>170.18</td>\n",
       "      <td>143</td>\n",
       "      <td>59</td>\n",
       "      <td>70.0</td>\n",
       "      <td>11.0</td>\n",
       "    </tr>\n",
       "    <tr>\n",
       "      <th>15</th>\n",
       "      <td>226014</td>\n",
       "      <td>597948</td>\n",
       "      <td>55.0</td>\n",
       "      <td>left</td>\n",
       "      <td>Aaron Splaine</td>\n",
       "      <td>172.72</td>\n",
       "      <td>163</td>\n",
       "      <td>55</td>\n",
       "      <td>55.0</td>\n",
       "      <td>0.0</td>\n",
       "    </tr>\n",
       "    <tr>\n",
       "      <th>16</th>\n",
       "      <td>213569</td>\n",
       "      <td>161644</td>\n",
       "      <td>62.0</td>\n",
       "      <td>left</td>\n",
       "      <td>Aaron Taylor-Sinclair</td>\n",
       "      <td>182.88</td>\n",
       "      <td>176</td>\n",
       "      <td>62</td>\n",
       "      <td>64.0</td>\n",
       "      <td>2.0</td>\n",
       "    </tr>\n",
       "    <tr>\n",
       "      <th>21</th>\n",
       "      <td>202425</td>\n",
       "      <td>245653</td>\n",
       "      <td>64.0</td>\n",
       "      <td>left</td>\n",
       "      <td>Abdelfettah Boukhriss</td>\n",
       "      <td>185.42</td>\n",
       "      <td>161</td>\n",
       "      <td>64</td>\n",
       "      <td>64.0</td>\n",
       "      <td>0.0</td>\n",
       "    </tr>\n",
       "  </tbody>\n",
       "</table>\n",
       "</div>"
      ],
      "text/plain": [
       "    player_fifa_api_id  player_api_id  overall_rating preferred_foot  \\\n",
       "5               158138          27316            73.0           left   \n",
       "13              183853          40719            59.0           left   \n",
       "15              226014         597948            55.0           left   \n",
       "16              213569         161644            62.0           left   \n",
       "21              202425         245653            64.0           left   \n",
       "\n",
       "              player_name  height  weight  first_overall_rating  \\\n",
       "5              Aaron Hunt  182.88     161                    73   \n",
       "13           Aaron Niguez  170.18     143                    59   \n",
       "15          Aaron Splaine  172.72     163                    55   \n",
       "16  Aaron Taylor-Sinclair  182.88     176                    62   \n",
       "21  Abdelfettah Boukhriss  185.42     161                    64   \n",
       "\n",
       "    last_overall_rating  overall_rating_improvement  \n",
       "5                  77.0                         4.0  \n",
       "13                 70.0                        11.0  \n",
       "15                 55.0                         0.0  \n",
       "16                 64.0                         2.0  \n",
       "21                 64.0                         0.0  "
      ]
     },
     "execution_count": 62,
     "metadata": {},
     "output_type": "execute_result"
    }
   ],
   "source": [
    "#Create data frame only with left foot preferred players\n",
    "left_foot_players = df_players.query('preferred_foot == \"left\"')\n",
    "left_foot_players.head()"
   ]
  },
  {
   "cell_type": "code",
   "execution_count": 63,
   "metadata": {},
   "outputs": [
    {
     "data": {
      "text/html": [
       "<div>\n",
       "<style scoped>\n",
       "    .dataframe tbody tr th:only-of-type {\n",
       "        vertical-align: middle;\n",
       "    }\n",
       "\n",
       "    .dataframe tbody tr th {\n",
       "        vertical-align: top;\n",
       "    }\n",
       "\n",
       "    .dataframe thead th {\n",
       "        text-align: right;\n",
       "    }\n",
       "</style>\n",
       "<table border=\"1\" class=\"dataframe\">\n",
       "  <thead>\n",
       "    <tr style=\"text-align: right;\">\n",
       "      <th></th>\n",
       "      <th>player_fifa_api_id</th>\n",
       "      <th>player_api_id</th>\n",
       "      <th>overall_rating</th>\n",
       "      <th>preferred_foot</th>\n",
       "      <th>player_name</th>\n",
       "      <th>height</th>\n",
       "      <th>weight</th>\n",
       "      <th>first_overall_rating</th>\n",
       "      <th>last_overall_rating</th>\n",
       "      <th>overall_rating_improvement</th>\n",
       "    </tr>\n",
       "  </thead>\n",
       "  <tbody>\n",
       "    <tr>\n",
       "      <th>0</th>\n",
       "      <td>218353</td>\n",
       "      <td>505942</td>\n",
       "      <td>61.0</td>\n",
       "      <td>right</td>\n",
       "      <td>Aaron Appindangoye</td>\n",
       "      <td>182.88</td>\n",
       "      <td>187</td>\n",
       "      <td>61</td>\n",
       "      <td>67.0</td>\n",
       "      <td>6.0</td>\n",
       "    </tr>\n",
       "    <tr>\n",
       "      <th>1</th>\n",
       "      <td>189615</td>\n",
       "      <td>155782</td>\n",
       "      <td>53.0</td>\n",
       "      <td>right</td>\n",
       "      <td>Aaron Cresswell</td>\n",
       "      <td>170.18</td>\n",
       "      <td>146</td>\n",
       "      <td>53</td>\n",
       "      <td>74.0</td>\n",
       "      <td>21.0</td>\n",
       "    </tr>\n",
       "    <tr>\n",
       "      <th>2</th>\n",
       "      <td>186170</td>\n",
       "      <td>162549</td>\n",
       "      <td>59.0</td>\n",
       "      <td>right</td>\n",
       "      <td>Aaron Doran</td>\n",
       "      <td>170.18</td>\n",
       "      <td>163</td>\n",
       "      <td>59</td>\n",
       "      <td>65.0</td>\n",
       "      <td>6.0</td>\n",
       "    </tr>\n",
       "    <tr>\n",
       "      <th>3</th>\n",
       "      <td>140161</td>\n",
       "      <td>30572</td>\n",
       "      <td>71.0</td>\n",
       "      <td>right</td>\n",
       "      <td>Aaron Galindo</td>\n",
       "      <td>182.88</td>\n",
       "      <td>198</td>\n",
       "      <td>71</td>\n",
       "      <td>69.0</td>\n",
       "      <td>-2.0</td>\n",
       "    </tr>\n",
       "    <tr>\n",
       "      <th>4</th>\n",
       "      <td>17725</td>\n",
       "      <td>23780</td>\n",
       "      <td>75.0</td>\n",
       "      <td>right</td>\n",
       "      <td>Aaron Hughes</td>\n",
       "      <td>182.88</td>\n",
       "      <td>154</td>\n",
       "      <td>75</td>\n",
       "      <td>70.0</td>\n",
       "      <td>-5.0</td>\n",
       "    </tr>\n",
       "  </tbody>\n",
       "</table>\n",
       "</div>"
      ],
      "text/plain": [
       "   player_fifa_api_id  player_api_id  overall_rating preferred_foot  \\\n",
       "0              218353         505942            61.0          right   \n",
       "1              189615         155782            53.0          right   \n",
       "2              186170         162549            59.0          right   \n",
       "3              140161          30572            71.0          right   \n",
       "4               17725          23780            75.0          right   \n",
       "\n",
       "          player_name  height  weight  first_overall_rating  \\\n",
       "0  Aaron Appindangoye  182.88     187                    61   \n",
       "1     Aaron Cresswell  170.18     146                    53   \n",
       "2         Aaron Doran  170.18     163                    59   \n",
       "3       Aaron Galindo  182.88     198                    71   \n",
       "4        Aaron Hughes  182.88     154                    75   \n",
       "\n",
       "   last_overall_rating  overall_rating_improvement  \n",
       "0                 67.0                         6.0  \n",
       "1                 74.0                        21.0  \n",
       "2                 65.0                         6.0  \n",
       "3                 69.0                        -2.0  \n",
       "4                 70.0                        -5.0  "
      ]
     },
     "execution_count": 63,
     "metadata": {},
     "output_type": "execute_result"
    }
   ],
   "source": [
    "#Create data frame only with right foot preferred players\n",
    "right_foot_players = df_players.query('preferred_foot == \"right\"')\n",
    "right_foot_players.head()"
   ]
  },
  {
   "cell_type": "code",
   "execution_count": 64,
   "metadata": {},
   "outputs": [
    {
     "data": {
      "image/png": "[encoded data removed]",
      "text/plain": [
       "<Figure size 1008x576 with 1 Axes>"
      ]
     },
     "metadata": {
      "needs_background": "light"
     },
     "output_type": "display_data"
    }
   ],
   "source": [
    "#Plot the histogram of overall rating for left foot preferred players\n",
    "myHistPlot(left_foot_players, 'last_overall_rating', 5)"
   ]
  },
  {
   "cell_type": "code",
   "execution_count": 65,
   "metadata": {},
   "outputs": [
    {
     "data": {
      "image/png": "[encoded data removed]",
      "text/plain": [
       "<Figure size 1008x576 with 1 Axes>"
      ]
     },
     "metadata": {
      "needs_background": "light"
     },
     "output_type": "display_data"
    }
   ],
   "source": [
    "#Plot the histogram of overall rating for right foot preferred players\n",
    "myHistPlot(right_foot_players, 'last_overall_rating', 5)"
   ]
  },
  {
   "cell_type": "code",
   "execution_count": 66,
   "metadata": {},
   "outputs": [
    {
     "data": {
      "text/plain": [
       "count    2522.000000\n",
       "mean       68.053529\n",
       "std         6.163313\n",
       "min        46.000000\n",
       "25%        64.000000\n",
       "50%        68.000000\n",
       "75%        72.000000\n",
       "max        94.000000\n",
       "Name: last_overall_rating, dtype: float64"
      ]
     },
     "execution_count": 66,
     "metadata": {},
     "output_type": "execute_result"
    }
   ],
   "source": [
    "#Summary statistics for left footed players overall rating\n",
    "left_foot_players.last_overall_rating.describe()"
   ]
  },
  {
   "cell_type": "code",
   "execution_count": 67,
   "metadata": {},
   "outputs": [
    {
     "data": {
      "text/plain": [
       "count    8538.000000\n",
       "mean       67.938862\n",
       "std         6.363589\n",
       "min        42.000000\n",
       "25%        64.000000\n",
       "50%        68.000000\n",
       "75%        72.000000\n",
       "max        93.000000\n",
       "Name: last_overall_rating, dtype: float64"
      ]
     },
     "execution_count": 67,
     "metadata": {},
     "output_type": "execute_result"
    }
   ],
   "source": [
    "#Summary statistics for right footed players overall rating\n",
    "right_foot_players.last_overall_rating.describe()"
   ]
  },
  {
   "cell_type": "code",
   "execution_count": 68,
   "metadata": {},
   "outputs": [
    {
     "data": {
      "text/plain": [
       "68.05352894528153"
      ]
     },
     "execution_count": 68,
     "metadata": {},
     "output_type": "execute_result"
    }
   ],
   "source": [
    "left_foot_players.last_overall_rating.mean()"
   ]
  },
  {
   "cell_type": "code",
   "execution_count": 69,
   "metadata": {},
   "outputs": [
    {
     "data": {
      "text/plain": [
       "67.93886156008433"
      ]
     },
     "execution_count": 69,
     "metadata": {},
     "output_type": "execute_result"
    }
   ],
   "source": [
    "right_foot_players.last_overall_rating.mean()"
   ]
  },
  {
   "cell_type": "markdown",
   "metadata": {},
   "source": [
    "Left footed players mean overall rating (68.05) is a little bit higher than right footed players mean overall rating (67.94), but the difference is very small. When we look at the quantiles distribution it is the same for both foot, 25% quantile's overall rating is 64, the median is 68 and the 75% quantile is 72. Therefore, we can conclude that there is no relationship between the player's prefered foot and his overall rating."
   ]
  },
  {
   "cell_type": "markdown",
   "metadata": {},
   "source": [
    "### Which team attributes are associated with more victories?"
   ]
  },
  {
   "cell_type": "code",
   "execution_count": 70,
   "metadata": {},
   "outputs": [
    {
     "data": {
      "text/html": [
       "<div>\n",
       "<style scoped>\n",
       "    .dataframe tbody tr th:only-of-type {\n",
       "        vertical-align: middle;\n",
       "    }\n",
       "\n",
       "    .dataframe tbody tr th {\n",
       "        vertical-align: top;\n",
       "    }\n",
       "\n",
       "    .dataframe thead th {\n",
       "        text-align: right;\n",
       "    }\n",
       "</style>\n",
       "<table border=\"1\" class=\"dataframe\">\n",
       "  <thead>\n",
       "    <tr style=\"text-align: right;\">\n",
       "      <th></th>\n",
       "      <th>winner_team_api_id</th>\n",
       "      <th>team_long_name</th>\n",
       "      <th>league_name</th>\n",
       "      <th>season</th>\n",
       "      <th>wins_by_season</th>\n",
       "      <th>team_api_id</th>\n",
       "      <th>avg_speed</th>\n",
       "      <th>avg_passing</th>\n",
       "      <th>avg_creation_passing</th>\n",
       "      <th>avg_creation_crossing</th>\n",
       "      <th>avg_creation_shooting</th>\n",
       "      <th>avg_defence_pressure</th>\n",
       "      <th>avg_defence_aggression</th>\n",
       "    </tr>\n",
       "  </thead>\n",
       "  <tbody>\n",
       "    <tr>\n",
       "      <th>0</th>\n",
       "      <td>1601</td>\n",
       "      <td>Ruch Chorzów</td>\n",
       "      <td>Poland Ekstraklasa</td>\n",
       "      <td>2009/2010</td>\n",
       "      <td>16</td>\n",
       "      <td>1601</td>\n",
       "      <td>30.0</td>\n",
       "      <td>40.0</td>\n",
       "      <td>50.0</td>\n",
       "      <td>35.0</td>\n",
       "      <td>70.0</td>\n",
       "      <td>65.0</td>\n",
       "      <td>60.0</td>\n",
       "    </tr>\n",
       "    <tr>\n",
       "      <th>1</th>\n",
       "      <td>1601</td>\n",
       "      <td>Ruch Chorzów</td>\n",
       "      <td>Poland Ekstraklasa</td>\n",
       "      <td>2010/2011</td>\n",
       "      <td>10</td>\n",
       "      <td>1601</td>\n",
       "      <td>48.0</td>\n",
       "      <td>51.0</td>\n",
       "      <td>68.0</td>\n",
       "      <td>67.0</td>\n",
       "      <td>51.0</td>\n",
       "      <td>46.0</td>\n",
       "      <td>48.0</td>\n",
       "    </tr>\n",
       "    <tr>\n",
       "      <th>2</th>\n",
       "      <td>1601</td>\n",
       "      <td>Ruch Chorzów</td>\n",
       "      <td>Poland Ekstraklasa</td>\n",
       "      <td>2011/2012</td>\n",
       "      <td>16</td>\n",
       "      <td>1601</td>\n",
       "      <td>53.0</td>\n",
       "      <td>55.0</td>\n",
       "      <td>44.0</td>\n",
       "      <td>65.0</td>\n",
       "      <td>50.0</td>\n",
       "      <td>43.0</td>\n",
       "      <td>44.0</td>\n",
       "    </tr>\n",
       "    <tr>\n",
       "      <th>3</th>\n",
       "      <td>1601</td>\n",
       "      <td>Ruch Chorzów</td>\n",
       "      <td>Poland Ekstraklasa</td>\n",
       "      <td>2013/2014</td>\n",
       "      <td>14</td>\n",
       "      <td>1601</td>\n",
       "      <td>53.0</td>\n",
       "      <td>55.0</td>\n",
       "      <td>44.0</td>\n",
       "      <td>65.0</td>\n",
       "      <td>50.0</td>\n",
       "      <td>43.0</td>\n",
       "      <td>44.0</td>\n",
       "    </tr>\n",
       "    <tr>\n",
       "      <th>4</th>\n",
       "      <td>1601</td>\n",
       "      <td>Ruch Chorzów</td>\n",
       "      <td>Poland Ekstraklasa</td>\n",
       "      <td>2014/2015</td>\n",
       "      <td>8</td>\n",
       "      <td>1601</td>\n",
       "      <td>53.0</td>\n",
       "      <td>38.0</td>\n",
       "      <td>66.0</td>\n",
       "      <td>65.0</td>\n",
       "      <td>50.0</td>\n",
       "      <td>43.0</td>\n",
       "      <td>44.0</td>\n",
       "    </tr>\n",
       "  </tbody>\n",
       "</table>\n",
       "</div>"
      ],
      "text/plain": [
       "   winner_team_api_id team_long_name         league_name     season  \\\n",
       "0                1601   Ruch Chorzów  Poland Ekstraklasa  2009/2010   \n",
       "1                1601   Ruch Chorzów  Poland Ekstraklasa  2010/2011   \n",
       "2                1601   Ruch Chorzów  Poland Ekstraklasa  2011/2012   \n",
       "3                1601   Ruch Chorzów  Poland Ekstraklasa  2013/2014   \n",
       "4                1601   Ruch Chorzów  Poland Ekstraklasa  2014/2015   \n",
       "\n",
       "   wins_by_season  team_api_id  avg_speed  avg_passing  avg_creation_passing  \\\n",
       "0              16         1601       30.0         40.0                  50.0   \n",
       "1              10         1601       48.0         51.0                  68.0   \n",
       "2              16         1601       53.0         55.0                  44.0   \n",
       "3              14         1601       53.0         55.0                  44.0   \n",
       "4               8         1601       53.0         38.0                  66.0   \n",
       "\n",
       "   avg_creation_crossing  avg_creation_shooting  avg_defence_pressure  \\\n",
       "0                   35.0                   70.0                  65.0   \n",
       "1                   67.0                   51.0                  46.0   \n",
       "2                   65.0                   50.0                  43.0   \n",
       "3                   65.0                   50.0                  43.0   \n",
       "4                   65.0                   50.0                  43.0   \n",
       "\n",
       "   avg_defence_aggression  \n",
       "0                    60.0  \n",
       "1                    48.0  \n",
       "2                    44.0  \n",
       "3                    44.0  \n",
       "4                    44.0  "
      ]
     },
     "execution_count": 70,
     "metadata": {},
     "output_type": "execute_result"
    }
   ],
   "source": [
    "#Take a look at the team wins and attributes data frame\n",
    "df_team_wins_and_attributes.head()"
   ]
  },
  {
   "cell_type": "code",
   "execution_count": 71,
   "metadata": {},
   "outputs": [
    {
     "data": {
      "text/html": [
       "<div>\n",
       "<style scoped>\n",
       "    .dataframe tbody tr th:only-of-type {\n",
       "        vertical-align: middle;\n",
       "    }\n",
       "\n",
       "    .dataframe tbody tr th {\n",
       "        vertical-align: top;\n",
       "    }\n",
       "\n",
       "    .dataframe thead th {\n",
       "        text-align: right;\n",
       "    }\n",
       "</style>\n",
       "<table border=\"1\" class=\"dataframe\">\n",
       "  <thead>\n",
       "    <tr style=\"text-align: right;\">\n",
       "      <th></th>\n",
       "      <th>winner_team_api_id</th>\n",
       "      <th>wins_by_season</th>\n",
       "      <th>team_api_id</th>\n",
       "      <th>avg_speed</th>\n",
       "      <th>avg_passing</th>\n",
       "      <th>avg_creation_passing</th>\n",
       "      <th>avg_creation_crossing</th>\n",
       "      <th>avg_creation_shooting</th>\n",
       "      <th>avg_defence_pressure</th>\n",
       "      <th>avg_defence_aggression</th>\n",
       "    </tr>\n",
       "  </thead>\n",
       "  <tbody>\n",
       "    <tr>\n",
       "      <th>count</th>\n",
       "      <td>892.000000</td>\n",
       "      <td>892.000000</td>\n",
       "      <td>892.000000</td>\n",
       "      <td>892.000000</td>\n",
       "      <td>892.000000</td>\n",
       "      <td>892.000000</td>\n",
       "      <td>892.000000</td>\n",
       "      <td>892.000000</td>\n",
       "      <td>892.000000</td>\n",
       "      <td>892.000000</td>\n",
       "    </tr>\n",
       "    <tr>\n",
       "      <th>mean</th>\n",
       "      <td>9233.273543</td>\n",
       "      <td>13.199552</td>\n",
       "      <td>9233.273543</td>\n",
       "      <td>52.172646</td>\n",
       "      <td>47.788117</td>\n",
       "      <td>52.493274</td>\n",
       "      <td>54.001121</td>\n",
       "      <td>55.124439</td>\n",
       "      <td>46.626682</td>\n",
       "      <td>49.655830</td>\n",
       "    </tr>\n",
       "    <tr>\n",
       "      <th>std</th>\n",
       "      <td>6201.776211</td>\n",
       "      <td>5.635035</td>\n",
       "      <td>6201.776211</td>\n",
       "      <td>12.414801</td>\n",
       "      <td>11.357518</td>\n",
       "      <td>10.584541</td>\n",
       "      <td>11.407314</td>\n",
       "      <td>10.191829</td>\n",
       "      <td>10.682054</td>\n",
       "      <td>10.366642</td>\n",
       "    </tr>\n",
       "    <tr>\n",
       "      <th>min</th>\n",
       "      <td>1601.000000</td>\n",
       "      <td>1.000000</td>\n",
       "      <td>1601.000000</td>\n",
       "      <td>20.000000</td>\n",
       "      <td>22.000000</td>\n",
       "      <td>21.000000</td>\n",
       "      <td>20.000000</td>\n",
       "      <td>30.000000</td>\n",
       "      <td>23.000000</td>\n",
       "      <td>24.000000</td>\n",
       "    </tr>\n",
       "    <tr>\n",
       "      <th>25%</th>\n",
       "      <td>8481.000000</td>\n",
       "      <td>9.000000</td>\n",
       "      <td>8481.000000</td>\n",
       "      <td>45.000000</td>\n",
       "      <td>39.000000</td>\n",
       "      <td>46.750000</td>\n",
       "      <td>47.000000</td>\n",
       "      <td>50.000000</td>\n",
       "      <td>39.000000</td>\n",
       "      <td>44.000000</td>\n",
       "    </tr>\n",
       "    <tr>\n",
       "      <th>50%</th>\n",
       "      <td>8721.000000</td>\n",
       "      <td>12.000000</td>\n",
       "      <td>8721.000000</td>\n",
       "      <td>52.000000</td>\n",
       "      <td>48.000000</td>\n",
       "      <td>52.000000</td>\n",
       "      <td>53.500000</td>\n",
       "      <td>54.000000</td>\n",
       "      <td>46.000000</td>\n",
       "      <td>49.000000</td>\n",
       "    </tr>\n",
       "    <tr>\n",
       "      <th>75%</th>\n",
       "      <td>9927.000000</td>\n",
       "      <td>16.000000</td>\n",
       "      <td>9927.000000</td>\n",
       "      <td>63.000000</td>\n",
       "      <td>55.000000</td>\n",
       "      <td>60.000000</td>\n",
       "      <td>63.000000</td>\n",
       "      <td>64.000000</td>\n",
       "      <td>54.000000</td>\n",
       "      <td>57.000000</td>\n",
       "    </tr>\n",
       "    <tr>\n",
       "      <th>max</th>\n",
       "      <td>158085.000000</td>\n",
       "      <td>33.000000</td>\n",
       "      <td>158085.000000</td>\n",
       "      <td>78.000000</td>\n",
       "      <td>80.000000</td>\n",
       "      <td>80.000000</td>\n",
       "      <td>80.000000</td>\n",
       "      <td>80.000000</td>\n",
       "      <td>70.000000</td>\n",
       "      <td>70.000000</td>\n",
       "    </tr>\n",
       "  </tbody>\n",
       "</table>\n",
       "</div>"
      ],
      "text/plain": [
       "       winner_team_api_id  wins_by_season    team_api_id   avg_speed  \\\n",
       "count          892.000000      892.000000     892.000000  892.000000   \n",
       "mean          9233.273543       13.199552    9233.273543   52.172646   \n",
       "std           6201.776211        5.635035    6201.776211   12.414801   \n",
       "min           1601.000000        1.000000    1601.000000   20.000000   \n",
       "25%           8481.000000        9.000000    8481.000000   45.000000   \n",
       "50%           8721.000000       12.000000    8721.000000   52.000000   \n",
       "75%           9927.000000       16.000000    9927.000000   63.000000   \n",
       "max         158085.000000       33.000000  158085.000000   78.000000   \n",
       "\n",
       "       avg_passing  avg_creation_passing  avg_creation_crossing  \\\n",
       "count   892.000000            892.000000             892.000000   \n",
       "mean     47.788117             52.493274              54.001121   \n",
       "std      11.357518             10.584541              11.407314   \n",
       "min      22.000000             21.000000              20.000000   \n",
       "25%      39.000000             46.750000              47.000000   \n",
       "50%      48.000000             52.000000              53.500000   \n",
       "75%      55.000000             60.000000              63.000000   \n",
       "max      80.000000             80.000000              80.000000   \n",
       "\n",
       "       avg_creation_shooting  avg_defence_pressure  avg_defence_aggression  \n",
       "count             892.000000            892.000000              892.000000  \n",
       "mean               55.124439             46.626682               49.655830  \n",
       "std                10.191829             10.682054               10.366642  \n",
       "min                30.000000             23.000000               24.000000  \n",
       "25%                50.000000             39.000000               44.000000  \n",
       "50%                54.000000             46.000000               49.000000  \n",
       "75%                64.000000             54.000000               57.000000  \n",
       "max                80.000000             70.000000               70.000000  "
      ]
     },
     "execution_count": 71,
     "metadata": {},
     "output_type": "execute_result"
    }
   ],
   "source": [
    "#Explore some descriptive statistics\n",
    "df_team_wins_and_attributes.describe()"
   ]
  },
  {
   "cell_type": "code",
   "execution_count": 72,
   "metadata": {},
   "outputs": [
    {
     "data": {
      "image/png": "[encoded data removed]",
      "text/plain": [
       "<Figure size 1008x576 with 9 Axes>"
      ]
     },
     "metadata": {
      "needs_background": "light"
     },
     "output_type": "display_data"
    }
   ],
   "source": [
    "#Plot histograms for the continuos variables\n",
    "df_team_wins_and_attributes.drop(['winner_team_api_id', 'team_api_id'], axis=1).hist(figsize=(14,8));"
   ]
  },
  {
   "cell_type": "markdown",
   "metadata": {},
   "source": [
    "Based on the histograms we'll explore if the average speed and average creation shooting impact on the number of wins a team has."
   ]
  },
  {
   "cell_type": "code",
   "execution_count": 73,
   "metadata": {},
   "outputs": [
    {
     "data": {
      "text/plain": [
       "count    892.000000\n",
       "mean      52.172646\n",
       "std       12.414801\n",
       "min       20.000000\n",
       "25%       45.000000\n",
       "50%       52.000000\n",
       "75%       63.000000\n",
       "max       78.000000\n",
       "Name: avg_speed, dtype: float64"
      ]
     },
     "execution_count": 73,
     "metadata": {},
     "output_type": "execute_result"
    }
   ],
   "source": [
    "# View the min, 25%, 50%, 75%, max avg speed\n",
    "df_team_wins_and_attributes.avg_speed.describe()"
   ]
  },
  {
   "cell_type": "code",
   "execution_count": 74,
   "metadata": {},
   "outputs": [
    {
     "data": {
      "text/plain": [
       "array([20., 45., 52., 63., 78.])"
      ]
     },
     "execution_count": 74,
     "metadata": {},
     "output_type": "execute_result"
    }
   ],
   "source": [
    "#Get values for bins to cut the group\n",
    "bin_edges = df_team_wins_and_attributes.avg_speed.describe().loc[['min', '25%', '50%', '75%', 'max']].values\n",
    "bin_edges"
   ]
  },
  {
   "cell_type": "code",
   "execution_count": 75,
   "metadata": {},
   "outputs": [],
   "source": [
    "#Label the bins\n",
    "bin_names = ['Low Speed', 'Medium Speed', 'Medium High Speed', 'High Speed']"
   ]
  },
  {
   "cell_type": "code",
   "execution_count": 76,
   "metadata": {},
   "outputs": [
    {
     "data": {
      "text/html": [
       "<div>\n",
       "<style scoped>\n",
       "    .dataframe tbody tr th:only-of-type {\n",
       "        vertical-align: middle;\n",
       "    }\n",
       "\n",
       "    .dataframe tbody tr th {\n",
       "        vertical-align: top;\n",
       "    }\n",
       "\n",
       "    .dataframe thead th {\n",
       "        text-align: right;\n",
       "    }\n",
       "</style>\n",
       "<table border=\"1\" class=\"dataframe\">\n",
       "  <thead>\n",
       "    <tr style=\"text-align: right;\">\n",
       "      <th></th>\n",
       "      <th>winner_team_api_id</th>\n",
       "      <th>team_long_name</th>\n",
       "      <th>league_name</th>\n",
       "      <th>season</th>\n",
       "      <th>wins_by_season</th>\n",
       "      <th>team_api_id</th>\n",
       "      <th>avg_speed</th>\n",
       "      <th>avg_passing</th>\n",
       "      <th>avg_creation_passing</th>\n",
       "      <th>avg_creation_crossing</th>\n",
       "      <th>avg_creation_shooting</th>\n",
       "      <th>avg_defence_pressure</th>\n",
       "      <th>avg_defence_aggression</th>\n",
       "      <th>speed_level</th>\n",
       "    </tr>\n",
       "  </thead>\n",
       "  <tbody>\n",
       "    <tr>\n",
       "      <th>0</th>\n",
       "      <td>1601</td>\n",
       "      <td>Ruch Chorzów</td>\n",
       "      <td>Poland Ekstraklasa</td>\n",
       "      <td>2009/2010</td>\n",
       "      <td>16</td>\n",
       "      <td>1601</td>\n",
       "      <td>30.0</td>\n",
       "      <td>40.0</td>\n",
       "      <td>50.0</td>\n",
       "      <td>35.0</td>\n",
       "      <td>70.0</td>\n",
       "      <td>65.0</td>\n",
       "      <td>60.0</td>\n",
       "      <td>Low Speed</td>\n",
       "    </tr>\n",
       "    <tr>\n",
       "      <th>1</th>\n",
       "      <td>1601</td>\n",
       "      <td>Ruch Chorzów</td>\n",
       "      <td>Poland Ekstraklasa</td>\n",
       "      <td>2010/2011</td>\n",
       "      <td>10</td>\n",
       "      <td>1601</td>\n",
       "      <td>48.0</td>\n",
       "      <td>51.0</td>\n",
       "      <td>68.0</td>\n",
       "      <td>67.0</td>\n",
       "      <td>51.0</td>\n",
       "      <td>46.0</td>\n",
       "      <td>48.0</td>\n",
       "      <td>Medium Speed</td>\n",
       "    </tr>\n",
       "    <tr>\n",
       "      <th>2</th>\n",
       "      <td>1601</td>\n",
       "      <td>Ruch Chorzów</td>\n",
       "      <td>Poland Ekstraklasa</td>\n",
       "      <td>2011/2012</td>\n",
       "      <td>16</td>\n",
       "      <td>1601</td>\n",
       "      <td>53.0</td>\n",
       "      <td>55.0</td>\n",
       "      <td>44.0</td>\n",
       "      <td>65.0</td>\n",
       "      <td>50.0</td>\n",
       "      <td>43.0</td>\n",
       "      <td>44.0</td>\n",
       "      <td>Medium High Speed</td>\n",
       "    </tr>\n",
       "    <tr>\n",
       "      <th>3</th>\n",
       "      <td>1601</td>\n",
       "      <td>Ruch Chorzów</td>\n",
       "      <td>Poland Ekstraklasa</td>\n",
       "      <td>2013/2014</td>\n",
       "      <td>14</td>\n",
       "      <td>1601</td>\n",
       "      <td>53.0</td>\n",
       "      <td>55.0</td>\n",
       "      <td>44.0</td>\n",
       "      <td>65.0</td>\n",
       "      <td>50.0</td>\n",
       "      <td>43.0</td>\n",
       "      <td>44.0</td>\n",
       "      <td>Medium High Speed</td>\n",
       "    </tr>\n",
       "    <tr>\n",
       "      <th>4</th>\n",
       "      <td>1601</td>\n",
       "      <td>Ruch Chorzów</td>\n",
       "      <td>Poland Ekstraklasa</td>\n",
       "      <td>2014/2015</td>\n",
       "      <td>8</td>\n",
       "      <td>1601</td>\n",
       "      <td>53.0</td>\n",
       "      <td>38.0</td>\n",
       "      <td>66.0</td>\n",
       "      <td>65.0</td>\n",
       "      <td>50.0</td>\n",
       "      <td>43.0</td>\n",
       "      <td>44.0</td>\n",
       "      <td>Medium High Speed</td>\n",
       "    </tr>\n",
       "  </tbody>\n",
       "</table>\n",
       "</div>"
      ],
      "text/plain": [
       "   winner_team_api_id team_long_name         league_name     season  \\\n",
       "0                1601   Ruch Chorzów  Poland Ekstraklasa  2009/2010   \n",
       "1                1601   Ruch Chorzów  Poland Ekstraklasa  2010/2011   \n",
       "2                1601   Ruch Chorzów  Poland Ekstraklasa  2011/2012   \n",
       "3                1601   Ruch Chorzów  Poland Ekstraklasa  2013/2014   \n",
       "4                1601   Ruch Chorzów  Poland Ekstraklasa  2014/2015   \n",
       "\n",
       "   wins_by_season  team_api_id  avg_speed  avg_passing  avg_creation_passing  \\\n",
       "0              16         1601       30.0         40.0                  50.0   \n",
       "1              10         1601       48.0         51.0                  68.0   \n",
       "2              16         1601       53.0         55.0                  44.0   \n",
       "3              14         1601       53.0         55.0                  44.0   \n",
       "4               8         1601       53.0         38.0                  66.0   \n",
       "\n",
       "   avg_creation_crossing  avg_creation_shooting  avg_defence_pressure  \\\n",
       "0                   35.0                   70.0                  65.0   \n",
       "1                   67.0                   51.0                  46.0   \n",
       "2                   65.0                   50.0                  43.0   \n",
       "3                   65.0                   50.0                  43.0   \n",
       "4                   65.0                   50.0                  43.0   \n",
       "\n",
       "   avg_defence_aggression        speed_level  \n",
       "0                    60.0          Low Speed  \n",
       "1                    48.0       Medium Speed  \n",
       "2                    44.0  Medium High Speed  \n",
       "3                    44.0  Medium High Speed  \n",
       "4                    44.0  Medium High Speed  "
      ]
     },
     "execution_count": 76,
     "metadata": {},
     "output_type": "execute_result"
    }
   ],
   "source": [
    "#Create speed level column\n",
    "df_team_wins_and_attributes['speed_level'] = pd.cut(df_team_wins_and_attributes['avg_speed'], bin_edges, labels=bin_names)\n",
    "#Check the dataframe\n",
    "df_team_wins_and_attributes.head()"
   ]
  },
  {
   "cell_type": "code",
   "execution_count": 77,
   "metadata": {},
   "outputs": [
    {
     "data": {
      "text/plain": [
       "speed_level\n",
       "Low Speed            13.366935\n",
       "Medium Speed         12.995025\n",
       "Medium High Speed    12.851528\n",
       "High Speed           13.578199\n",
       "Name: wins_by_season, dtype: float64"
      ]
     },
     "execution_count": 77,
     "metadata": {},
     "output_type": "execute_result"
    }
   ],
   "source": [
    "#Explore the average wins by season per speed level\n",
    "df_team_wins_and_attributes.groupby('speed_level')['wins_by_season'].mean()"
   ]
  },
  {
   "cell_type": "markdown",
   "metadata": {},
   "source": [
    "It doesn't look like having a high average speeds leads to more wins by season, as teams with low speed levels have more average wins than teams with medium high speed levels."
   ]
  },
  {
   "cell_type": "code",
   "execution_count": 78,
   "metadata": {},
   "outputs": [
    {
     "data": {
      "text/plain": [
       "count    892.000000\n",
       "mean      55.124439\n",
       "std       10.191829\n",
       "min       30.000000\n",
       "25%       50.000000\n",
       "50%       54.000000\n",
       "75%       64.000000\n",
       "max       80.000000\n",
       "Name: avg_creation_shooting, dtype: float64"
      ]
     },
     "execution_count": 78,
     "metadata": {},
     "output_type": "execute_result"
    }
   ],
   "source": [
    "# View the min, 25%, 50%, 75%, max for avg shooting creation\n",
    "df_team_wins_and_attributes.avg_creation_shooting.describe()"
   ]
  },
  {
   "cell_type": "code",
   "execution_count": 79,
   "metadata": {},
   "outputs": [
    {
     "data": {
      "text/plain": [
       "array([30., 50., 54., 64., 80.])"
      ]
     },
     "execution_count": 79,
     "metadata": {},
     "output_type": "execute_result"
    }
   ],
   "source": [
    "#Get values for bins to cut the group\n",
    "bin_edges = df_team_wins_and_attributes.avg_creation_shooting.describe().loc[['min', '25%', '50%', '75%', 'max']].values\n",
    "bin_edges"
   ]
  },
  {
   "cell_type": "code",
   "execution_count": 80,
   "metadata": {},
   "outputs": [],
   "source": [
    "#Label the bins\n",
    "bin_names = ['Low Shooting', 'Medium Shooting', 'Medium High Shooting', 'High Shooting']"
   ]
  },
  {
   "cell_type": "code",
   "execution_count": 81,
   "metadata": {},
   "outputs": [
    {
     "data": {
      "text/html": [
       "<div>\n",
       "<style scoped>\n",
       "    .dataframe tbody tr th:only-of-type {\n",
       "        vertical-align: middle;\n",
       "    }\n",
       "\n",
       "    .dataframe tbody tr th {\n",
       "        vertical-align: top;\n",
       "    }\n",
       "\n",
       "    .dataframe thead th {\n",
       "        text-align: right;\n",
       "    }\n",
       "</style>\n",
       "<table border=\"1\" class=\"dataframe\">\n",
       "  <thead>\n",
       "    <tr style=\"text-align: right;\">\n",
       "      <th></th>\n",
       "      <th>winner_team_api_id</th>\n",
       "      <th>team_long_name</th>\n",
       "      <th>league_name</th>\n",
       "      <th>season</th>\n",
       "      <th>wins_by_season</th>\n",
       "      <th>team_api_id</th>\n",
       "      <th>avg_speed</th>\n",
       "      <th>avg_passing</th>\n",
       "      <th>avg_creation_passing</th>\n",
       "      <th>avg_creation_crossing</th>\n",
       "      <th>avg_creation_shooting</th>\n",
       "      <th>avg_defence_pressure</th>\n",
       "      <th>avg_defence_aggression</th>\n",
       "      <th>speed_level</th>\n",
       "      <th>shooting_level</th>\n",
       "    </tr>\n",
       "  </thead>\n",
       "  <tbody>\n",
       "    <tr>\n",
       "      <th>0</th>\n",
       "      <td>1601</td>\n",
       "      <td>Ruch Chorzów</td>\n",
       "      <td>Poland Ekstraklasa</td>\n",
       "      <td>2009/2010</td>\n",
       "      <td>16</td>\n",
       "      <td>1601</td>\n",
       "      <td>30.0</td>\n",
       "      <td>40.0</td>\n",
       "      <td>50.0</td>\n",
       "      <td>35.0</td>\n",
       "      <td>70.0</td>\n",
       "      <td>65.0</td>\n",
       "      <td>60.0</td>\n",
       "      <td>Low Speed</td>\n",
       "      <td>High Shooting</td>\n",
       "    </tr>\n",
       "    <tr>\n",
       "      <th>1</th>\n",
       "      <td>1601</td>\n",
       "      <td>Ruch Chorzów</td>\n",
       "      <td>Poland Ekstraklasa</td>\n",
       "      <td>2010/2011</td>\n",
       "      <td>10</td>\n",
       "      <td>1601</td>\n",
       "      <td>48.0</td>\n",
       "      <td>51.0</td>\n",
       "      <td>68.0</td>\n",
       "      <td>67.0</td>\n",
       "      <td>51.0</td>\n",
       "      <td>46.0</td>\n",
       "      <td>48.0</td>\n",
       "      <td>Medium Speed</td>\n",
       "      <td>Medium Shooting</td>\n",
       "    </tr>\n",
       "    <tr>\n",
       "      <th>2</th>\n",
       "      <td>1601</td>\n",
       "      <td>Ruch Chorzów</td>\n",
       "      <td>Poland Ekstraklasa</td>\n",
       "      <td>2011/2012</td>\n",
       "      <td>16</td>\n",
       "      <td>1601</td>\n",
       "      <td>53.0</td>\n",
       "      <td>55.0</td>\n",
       "      <td>44.0</td>\n",
       "      <td>65.0</td>\n",
       "      <td>50.0</td>\n",
       "      <td>43.0</td>\n",
       "      <td>44.0</td>\n",
       "      <td>Medium High Speed</td>\n",
       "      <td>Low Shooting</td>\n",
       "    </tr>\n",
       "    <tr>\n",
       "      <th>3</th>\n",
       "      <td>1601</td>\n",
       "      <td>Ruch Chorzów</td>\n",
       "      <td>Poland Ekstraklasa</td>\n",
       "      <td>2013/2014</td>\n",
       "      <td>14</td>\n",
       "      <td>1601</td>\n",
       "      <td>53.0</td>\n",
       "      <td>55.0</td>\n",
       "      <td>44.0</td>\n",
       "      <td>65.0</td>\n",
       "      <td>50.0</td>\n",
       "      <td>43.0</td>\n",
       "      <td>44.0</td>\n",
       "      <td>Medium High Speed</td>\n",
       "      <td>Low Shooting</td>\n",
       "    </tr>\n",
       "    <tr>\n",
       "      <th>4</th>\n",
       "      <td>1601</td>\n",
       "      <td>Ruch Chorzów</td>\n",
       "      <td>Poland Ekstraklasa</td>\n",
       "      <td>2014/2015</td>\n",
       "      <td>8</td>\n",
       "      <td>1601</td>\n",
       "      <td>53.0</td>\n",
       "      <td>38.0</td>\n",
       "      <td>66.0</td>\n",
       "      <td>65.0</td>\n",
       "      <td>50.0</td>\n",
       "      <td>43.0</td>\n",
       "      <td>44.0</td>\n",
       "      <td>Medium High Speed</td>\n",
       "      <td>Low Shooting</td>\n",
       "    </tr>\n",
       "  </tbody>\n",
       "</table>\n",
       "</div>"
      ],
      "text/plain": [
       "   winner_team_api_id team_long_name         league_name     season  \\\n",
       "0                1601   Ruch Chorzów  Poland Ekstraklasa  2009/2010   \n",
       "1                1601   Ruch Chorzów  Poland Ekstraklasa  2010/2011   \n",
       "2                1601   Ruch Chorzów  Poland Ekstraklasa  2011/2012   \n",
       "3                1601   Ruch Chorzów  Poland Ekstraklasa  2013/2014   \n",
       "4                1601   Ruch Chorzów  Poland Ekstraklasa  2014/2015   \n",
       "\n",
       "   wins_by_season  team_api_id  avg_speed  avg_passing  avg_creation_passing  \\\n",
       "0              16         1601       30.0         40.0                  50.0   \n",
       "1              10         1601       48.0         51.0                  68.0   \n",
       "2              16         1601       53.0         55.0                  44.0   \n",
       "3              14         1601       53.0         55.0                  44.0   \n",
       "4               8         1601       53.0         38.0                  66.0   \n",
       "\n",
       "   avg_creation_crossing  avg_creation_shooting  avg_defence_pressure  \\\n",
       "0                   35.0                   70.0                  65.0   \n",
       "1                   67.0                   51.0                  46.0   \n",
       "2                   65.0                   50.0                  43.0   \n",
       "3                   65.0                   50.0                  43.0   \n",
       "4                   65.0                   50.0                  43.0   \n",
       "\n",
       "   avg_defence_aggression        speed_level   shooting_level  \n",
       "0                    60.0          Low Speed    High Shooting  \n",
       "1                    48.0       Medium Speed  Medium Shooting  \n",
       "2                    44.0  Medium High Speed     Low Shooting  \n",
       "3                    44.0  Medium High Speed     Low Shooting  \n",
       "4                    44.0  Medium High Speed     Low Shooting  "
      ]
     },
     "execution_count": 81,
     "metadata": {},
     "output_type": "execute_result"
    }
   ],
   "source": [
    "#Create shooting level column\n",
    "df_team_wins_and_attributes['shooting_level'] = pd.cut(df_team_wins_and_attributes['avg_creation_shooting'], bin_edges, labels=bin_names)\n",
    "#Check the dataframe\n",
    "df_team_wins_and_attributes.head()"
   ]
  },
  {
   "cell_type": "code",
   "execution_count": 82,
   "metadata": {},
   "outputs": [
    {
     "data": {
      "text/plain": [
       "shooting_level\n",
       "Low Shooting            12.525253\n",
       "Medium Shooting         12.889610\n",
       "Medium High Shooting    12.890351\n",
       "High Shooting           14.660287\n",
       "Name: wins_by_season, dtype: float64"
      ]
     },
     "execution_count": 82,
     "metadata": {},
     "output_type": "execute_result"
    }
   ],
   "source": [
    "#Explore the average wins by season per shooting level\n",
    "df_team_wins_and_attributes.groupby('shooting_level')['wins_by_season'].mean()"
   ]
  },
  {
   "cell_type": "markdown",
   "metadata": {},
   "source": [
    "It looks like teams with a higher shooting creation levels have an average of more wins by season, as teams with High Shooting level have the highest average wins by season and teams with a Low Shooting level have the lowest rate of wins."
   ]
  },
  {
   "cell_type": "markdown",
   "metadata": {},
   "source": [
    "<a id='conclusions'></a>\n",
    "## Conclusions"
   ]
  },
  {
   "cell_type": "markdown",
   "metadata": {
    "collapsed": true
   },
   "source": [
    "In this project we analyzed some descriptive statistics from the Soccer Dataset and reached some interesting conclusions, such as that the winner of most games is usually the home team, that there is no clear relationship between a player's height and his overall rating. We also concluded that the preffered foot doesn't seem to impact a player's rating and that teams with a higher shooting creation level tend to win more games in a season. We also discovered which players improved the most points in their ratings during the period and which country's league has the highest average number of goals per match.\n",
    "In this data analysis we didn't conduct any causal inferation analysis, therefore the results shouldn't be seen as causal relationships. For future analysis it would be interesting to conduct some statistical tests and causal inferation to see what are the causal links between the data. Another limitation of this analysis is that it only includes data from players and match from some European Soccer Leagues from 2008 to 2016, it would be interesting to explore if the results are the same for other periods and locations. Furthermore, in this analysis we didn't conduct any statistical inference analysis to test the significance of the results."
   ]
  }
 ],
 "metadata": {
  "kernelspec": {
   "display_name": "Python 3 (ipykernel)",
   "language": "python",
   "name": "python3"
  },
  "language_info": {
   "codemirror_mode": {
    "name": "ipython",
    "version": 3
   },
   "file_extension": ".py",
   "mimetype": "text/x-python",
   "name": "python",
   "nbconvert_exporter": "python",
   "pygments_lexer": "ipython3",
   "version": "3.9.11"
  }
 },
 "nbformat": 4,
 "nbformat_minor": 2
}
